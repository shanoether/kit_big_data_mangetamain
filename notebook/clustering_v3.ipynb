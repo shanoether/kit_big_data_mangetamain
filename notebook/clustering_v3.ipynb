{
 "cells": [
  {
   "cell_type": "code",
   "execution_count": 50,
   "id": "3e1cfbfc-4bd6-4261-9d36-eb463d53210e",
   "metadata": {},
   "outputs": [],
   "source": [
    "# === Imports de base ===\n",
    "import pandas as pd\n",
    "import numpy as np\n",
    "import matplotlib.pyplot as plt\n",
    "import seaborn as sns\n",
    "import polars as pl\n",
    "\n",
    "# === Machine learning ===\n",
    "from sklearn.preprocessing import StandardScaler\n",
    "from sklearn.cluster import KMeans\n",
    "from sklearn.decomposition import PCA\n",
    "\n",
    "\n",
    "import plotly.express as px"
   ]
  },
  {
   "cell_type": "code",
   "execution_count": 51,
   "id": "fb63e792-e02b-46a4-b323-9446e47b038c",
   "metadata": {},
   "outputs": [],
   "source": [
    "df_total = pl.read_parquet(\"../data/processed/total.parquet\")\n",
    "df_interaction = pl.read_parquet(\"../data/processed/total.parquet\")"
   ]
  },
  {
   "cell_type": "code",
   "execution_count": 52,
   "id": "a91327e8-579f-4aa1-837c-e4e84b2b2d25",
   "metadata": {},
   "outputs": [],
   "source": [
    "df_user = (\n",
    "    df_total.with_columns(\n",
    "        tags_clean=(\n",
    "            pl.col(\"tags\")\n",
    "            .str.replace_all(r\"[\\[\\]']\", \"\")  # remove brackets & quotes\n",
    "            .str.replace_all(r\"^\\s+|\\s+$\", \"\")  # remove leading/trailing spaces\n",
    "            .str.split(\",\")  # split on comma + optional spaces\n",
    "        )\n",
    "    )\n",
    "    .group_by(\"user_id\")\n",
    "    .agg(\n",
    "        nb_reviews=pl.len(),\n",
    "        mean_rating=pl.col(\"rating\").mean(),\n",
    "        std_rating=pl.col(\"rating\").std(),\n",
    "        mean_steps=pl.col(\"n_steps\").mean(),\n",
    "        review_length=pl.col(\"review\").flatten().str.split(\" \").list.len().mean(),\n",
    "        mean_time=pl.col(\"minutes\").mean(),\n",
    "        nb_ingredients=pl.col(\"n_ingredients\").mean(),\n",
    "    )\n",
    ")\n",
    "\n",
    "df_user = df_user.with_columns(\n",
    "    pl.col(\"std_rating\").fill_nan(0).fill_null(0).alias(\"std_rating\")\n",
    ")\n",
    "\n",
    "\n",
    "# df_user = df_user.with_columns(\n",
    "#    pl.col(\"nb_reviews\").log1p().alias(\"nb_reviews\")\n",
    "# )"
   ]
  },
  {
   "cell_type": "code",
   "execution_count": 54,
   "id": "1b2758bd-7df6-4b94-a759-00b0d027b9fd",
   "metadata": {},
   "outputs": [],
   "source": [
    "features = [\"nb_reviews\", \"mean_rating\", \"std_rating\", \"review_length\", \"mean_time\"]\n",
    "df_user = df_user.drop_nulls()\n",
    "pd_user = df_user[features].to_pandas()\n",
    "scaler = StandardScaler()\n",
    "pd_user_scaled = scaler.fit_transform(pd_user)"
   ]
  },
  {
   "cell_type": "code",
   "execution_count": 58,
   "id": "71f0038e-da28-4a10-af5f-01a7871ef23f",
   "metadata": {},
   "outputs": [
    {
     "data": {
      "application/vnd.plotly.v1+json": {
       "config": {
        "plotlyServerURL": "https://plot.ly"
       },
       "data": [
        {
         "hovertemplate": "x=%{x}<br>y=%{y}<extra></extra>",
         "legendgroup": "",
         "line": {
          "color": "#636efa",
          "dash": "solid"
         },
         "marker": {
          "symbol": "circle"
         },
         "mode": "lines",
         "name": "",
         "orientation": "v",
         "showlegend": false,
         "type": "scatter",
         "x": {
          "bdata": "AAECAwQFBgcICQoLDA0O",
          "dtype": "i1"
         },
         "xaxis": "x",
         "y": {
          "bdata": "15dY6jYxE0HXl1jqNjETQdeXWOo2MRNB15dY6jYxE0HXl1jqNjETQdeXWOo2MRNB15dY6jYxE0HXl1jqNjETQdeXWOo2MRNB15dY6jYxE0HXl1jqNjETQdeXWOo2MRNB15dY6jYxE0HXl1jqNjETQdeXWOo2MRNB",
          "dtype": "f8"
         },
         "yaxis": "y"
        }
       ],
       "layout": {
        "legend": {
         "tracegroupgap": 0
        },
        "template": {
         "data": {
          "bar": [
           {
            "error_x": {
             "color": "#2a3f5f"
            },
            "error_y": {
             "color": "#2a3f5f"
            },
            "marker": {
             "line": {
              "color": "#E5ECF6",
              "width": 0.5
             },
             "pattern": {
              "fillmode": "overlay",
              "size": 10,
              "solidity": 0.2
             }
            },
            "type": "bar"
           }
          ],
          "barpolar": [
           {
            "marker": {
             "line": {
              "color": "#E5ECF6",
              "width": 0.5
             },
             "pattern": {
              "fillmode": "overlay",
              "size": 10,
              "solidity": 0.2
             }
            },
            "type": "barpolar"
           }
          ],
          "carpet": [
           {
            "aaxis": {
             "endlinecolor": "#2a3f5f",
             "gridcolor": "white",
             "linecolor": "white",
             "minorgridcolor": "white",
             "startlinecolor": "#2a3f5f"
            },
            "baxis": {
             "endlinecolor": "#2a3f5f",
             "gridcolor": "white",
             "linecolor": "white",
             "minorgridcolor": "white",
             "startlinecolor": "#2a3f5f"
            },
            "type": "carpet"
           }
          ],
          "choropleth": [
           {
            "colorbar": {
             "outlinewidth": 0,
             "ticks": ""
            },
            "type": "choropleth"
           }
          ],
          "contour": [
           {
            "colorbar": {
             "outlinewidth": 0,
             "ticks": ""
            },
            "colorscale": [
             [
              0,
              "#0d0887"
             ],
             [
              0.1111111111111111,
              "#46039f"
             ],
             [
              0.2222222222222222,
              "#7201a8"
             ],
             [
              0.3333333333333333,
              "#9c179e"
             ],
             [
              0.4444444444444444,
              "#bd3786"
             ],
             [
              0.5555555555555556,
              "#d8576b"
             ],
             [
              0.6666666666666666,
              "#ed7953"
             ],
             [
              0.7777777777777778,
              "#fb9f3a"
             ],
             [
              0.8888888888888888,
              "#fdca26"
             ],
             [
              1,
              "#f0f921"
             ]
            ],
            "type": "contour"
           }
          ],
          "contourcarpet": [
           {
            "colorbar": {
             "outlinewidth": 0,
             "ticks": ""
            },
            "type": "contourcarpet"
           }
          ],
          "heatmap": [
           {
            "colorbar": {
             "outlinewidth": 0,
             "ticks": ""
            },
            "colorscale": [
             [
              0,
              "#0d0887"
             ],
             [
              0.1111111111111111,
              "#46039f"
             ],
             [
              0.2222222222222222,
              "#7201a8"
             ],
             [
              0.3333333333333333,
              "#9c179e"
             ],
             [
              0.4444444444444444,
              "#bd3786"
             ],
             [
              0.5555555555555556,
              "#d8576b"
             ],
             [
              0.6666666666666666,
              "#ed7953"
             ],
             [
              0.7777777777777778,
              "#fb9f3a"
             ],
             [
              0.8888888888888888,
              "#fdca26"
             ],
             [
              1,
              "#f0f921"
             ]
            ],
            "type": "heatmap"
           }
          ],
          "histogram": [
           {
            "marker": {
             "pattern": {
              "fillmode": "overlay",
              "size": 10,
              "solidity": 0.2
             }
            },
            "type": "histogram"
           }
          ],
          "histogram2d": [
           {
            "colorbar": {
             "outlinewidth": 0,
             "ticks": ""
            },
            "colorscale": [
             [
              0,
              "#0d0887"
             ],
             [
              0.1111111111111111,
              "#46039f"
             ],
             [
              0.2222222222222222,
              "#7201a8"
             ],
             [
              0.3333333333333333,
              "#9c179e"
             ],
             [
              0.4444444444444444,
              "#bd3786"
             ],
             [
              0.5555555555555556,
              "#d8576b"
             ],
             [
              0.6666666666666666,
              "#ed7953"
             ],
             [
              0.7777777777777778,
              "#fb9f3a"
             ],
             [
              0.8888888888888888,
              "#fdca26"
             ],
             [
              1,
              "#f0f921"
             ]
            ],
            "type": "histogram2d"
           }
          ],
          "histogram2dcontour": [
           {
            "colorbar": {
             "outlinewidth": 0,
             "ticks": ""
            },
            "colorscale": [
             [
              0,
              "#0d0887"
             ],
             [
              0.1111111111111111,
              "#46039f"
             ],
             [
              0.2222222222222222,
              "#7201a8"
             ],
             [
              0.3333333333333333,
              "#9c179e"
             ],
             [
              0.4444444444444444,
              "#bd3786"
             ],
             [
              0.5555555555555556,
              "#d8576b"
             ],
             [
              0.6666666666666666,
              "#ed7953"
             ],
             [
              0.7777777777777778,
              "#fb9f3a"
             ],
             [
              0.8888888888888888,
              "#fdca26"
             ],
             [
              1,
              "#f0f921"
             ]
            ],
            "type": "histogram2dcontour"
           }
          ],
          "mesh3d": [
           {
            "colorbar": {
             "outlinewidth": 0,
             "ticks": ""
            },
            "type": "mesh3d"
           }
          ],
          "parcoords": [
           {
            "line": {
             "colorbar": {
              "outlinewidth": 0,
              "ticks": ""
             }
            },
            "type": "parcoords"
           }
          ],
          "pie": [
           {
            "automargin": true,
            "type": "pie"
           }
          ],
          "scatter": [
           {
            "fillpattern": {
             "fillmode": "overlay",
             "size": 10,
             "solidity": 0.2
            },
            "type": "scatter"
           }
          ],
          "scatter3d": [
           {
            "line": {
             "colorbar": {
              "outlinewidth": 0,
              "ticks": ""
             }
            },
            "marker": {
             "colorbar": {
              "outlinewidth": 0,
              "ticks": ""
             }
            },
            "type": "scatter3d"
           }
          ],
          "scattercarpet": [
           {
            "marker": {
             "colorbar": {
              "outlinewidth": 0,
              "ticks": ""
             }
            },
            "type": "scattercarpet"
           }
          ],
          "scattergeo": [
           {
            "marker": {
             "colorbar": {
              "outlinewidth": 0,
              "ticks": ""
             }
            },
            "type": "scattergeo"
           }
          ],
          "scattergl": [
           {
            "marker": {
             "colorbar": {
              "outlinewidth": 0,
              "ticks": ""
             }
            },
            "type": "scattergl"
           }
          ],
          "scattermap": [
           {
            "marker": {
             "colorbar": {
              "outlinewidth": 0,
              "ticks": ""
             }
            },
            "type": "scattermap"
           }
          ],
          "scattermapbox": [
           {
            "marker": {
             "colorbar": {
              "outlinewidth": 0,
              "ticks": ""
             }
            },
            "type": "scattermapbox"
           }
          ],
          "scatterpolar": [
           {
            "marker": {
             "colorbar": {
              "outlinewidth": 0,
              "ticks": ""
             }
            },
            "type": "scatterpolar"
           }
          ],
          "scatterpolargl": [
           {
            "marker": {
             "colorbar": {
              "outlinewidth": 0,
              "ticks": ""
             }
            },
            "type": "scatterpolargl"
           }
          ],
          "scatterternary": [
           {
            "marker": {
             "colorbar": {
              "outlinewidth": 0,
              "ticks": ""
             }
            },
            "type": "scatterternary"
           }
          ],
          "surface": [
           {
            "colorbar": {
             "outlinewidth": 0,
             "ticks": ""
            },
            "colorscale": [
             [
              0,
              "#0d0887"
             ],
             [
              0.1111111111111111,
              "#46039f"
             ],
             [
              0.2222222222222222,
              "#7201a8"
             ],
             [
              0.3333333333333333,
              "#9c179e"
             ],
             [
              0.4444444444444444,
              "#bd3786"
             ],
             [
              0.5555555555555556,
              "#d8576b"
             ],
             [
              0.6666666666666666,
              "#ed7953"
             ],
             [
              0.7777777777777778,
              "#fb9f3a"
             ],
             [
              0.8888888888888888,
              "#fdca26"
             ],
             [
              1,
              "#f0f921"
             ]
            ],
            "type": "surface"
           }
          ],
          "table": [
           {
            "cells": {
             "fill": {
              "color": "#EBF0F8"
             },
             "line": {
              "color": "white"
             }
            },
            "header": {
             "fill": {
              "color": "#C8D4E3"
             },
             "line": {
              "color": "white"
             }
            },
            "type": "table"
           }
          ]
         },
         "layout": {
          "annotationdefaults": {
           "arrowcolor": "#2a3f5f",
           "arrowhead": 0,
           "arrowwidth": 1
          },
          "autotypenumbers": "strict",
          "coloraxis": {
           "colorbar": {
            "outlinewidth": 0,
            "ticks": ""
           }
          },
          "colorscale": {
           "diverging": [
            [
             0,
             "#8e0152"
            ],
            [
             0.1,
             "#c51b7d"
            ],
            [
             0.2,
             "#de77ae"
            ],
            [
             0.3,
             "#f1b6da"
            ],
            [
             0.4,
             "#fde0ef"
            ],
            [
             0.5,
             "#f7f7f7"
            ],
            [
             0.6,
             "#e6f5d0"
            ],
            [
             0.7,
             "#b8e186"
            ],
            [
             0.8,
             "#7fbc41"
            ],
            [
             0.9,
             "#4d9221"
            ],
            [
             1,
             "#276419"
            ]
           ],
           "sequential": [
            [
             0,
             "#0d0887"
            ],
            [
             0.1111111111111111,
             "#46039f"
            ],
            [
             0.2222222222222222,
             "#7201a8"
            ],
            [
             0.3333333333333333,
             "#9c179e"
            ],
            [
             0.4444444444444444,
             "#bd3786"
            ],
            [
             0.5555555555555556,
             "#d8576b"
            ],
            [
             0.6666666666666666,
             "#ed7953"
            ],
            [
             0.7777777777777778,
             "#fb9f3a"
            ],
            [
             0.8888888888888888,
             "#fdca26"
            ],
            [
             1,
             "#f0f921"
            ]
           ],
           "sequentialminus": [
            [
             0,
             "#0d0887"
            ],
            [
             0.1111111111111111,
             "#46039f"
            ],
            [
             0.2222222222222222,
             "#7201a8"
            ],
            [
             0.3333333333333333,
             "#9c179e"
            ],
            [
             0.4444444444444444,
             "#bd3786"
            ],
            [
             0.5555555555555556,
             "#d8576b"
            ],
            [
             0.6666666666666666,
             "#ed7953"
            ],
            [
             0.7777777777777778,
             "#fb9f3a"
            ],
            [
             0.8888888888888888,
             "#fdca26"
            ],
            [
             1,
             "#f0f921"
            ]
           ]
          },
          "colorway": [
           "#636efa",
           "#EF553B",
           "#00cc96",
           "#ab63fa",
           "#FFA15A",
           "#19d3f3",
           "#FF6692",
           "#B6E880",
           "#FF97FF",
           "#FECB52"
          ],
          "font": {
           "color": "#2a3f5f"
          },
          "geo": {
           "bgcolor": "white",
           "lakecolor": "white",
           "landcolor": "#E5ECF6",
           "showlakes": true,
           "showland": true,
           "subunitcolor": "white"
          },
          "hoverlabel": {
           "align": "left"
          },
          "hovermode": "closest",
          "mapbox": {
           "style": "light"
          },
          "paper_bgcolor": "white",
          "plot_bgcolor": "#E5ECF6",
          "polar": {
           "angularaxis": {
            "gridcolor": "white",
            "linecolor": "white",
            "ticks": ""
           },
           "bgcolor": "#E5ECF6",
           "radialaxis": {
            "gridcolor": "white",
            "linecolor": "white",
            "ticks": ""
           }
          },
          "scene": {
           "xaxis": {
            "backgroundcolor": "#E5ECF6",
            "gridcolor": "white",
            "gridwidth": 2,
            "linecolor": "white",
            "showbackground": true,
            "ticks": "",
            "zerolinecolor": "white"
           },
           "yaxis": {
            "backgroundcolor": "#E5ECF6",
            "gridcolor": "white",
            "gridwidth": 2,
            "linecolor": "white",
            "showbackground": true,
            "ticks": "",
            "zerolinecolor": "white"
           },
           "zaxis": {
            "backgroundcolor": "#E5ECF6",
            "gridcolor": "white",
            "gridwidth": 2,
            "linecolor": "white",
            "showbackground": true,
            "ticks": "",
            "zerolinecolor": "white"
           }
          },
          "shapedefaults": {
           "line": {
            "color": "#2a3f5f"
           }
          },
          "ternary": {
           "aaxis": {
            "gridcolor": "white",
            "linecolor": "white",
            "ticks": ""
           },
           "baxis": {
            "gridcolor": "white",
            "linecolor": "white",
            "ticks": ""
           },
           "bgcolor": "#E5ECF6",
           "caxis": {
            "gridcolor": "white",
            "linecolor": "white",
            "ticks": ""
           }
          },
          "title": {
           "x": 0.05
          },
          "xaxis": {
           "automargin": true,
           "gridcolor": "white",
           "linecolor": "white",
           "ticks": "",
           "title": {
            "standoff": 15
           },
           "zerolinecolor": "white",
           "zerolinewidth": 2
          },
          "yaxis": {
           "automargin": true,
           "gridcolor": "white",
           "linecolor": "white",
           "ticks": "",
           "title": {
            "standoff": 15
           },
           "zerolinecolor": "white",
           "zerolinewidth": 2
          }
         }
        },
        "title": {
         "text": "Elbow method for best number of cluster"
        },
        "xaxis": {
         "anchor": "y",
         "domain": [
          0,
          1
         ],
         "title": {
          "text": "x"
         }
        },
        "yaxis": {
         "anchor": "x",
         "domain": [
          0,
          1
         ],
         "title": {
          "text": "y"
         }
        }
       }
      }
     },
     "metadata": {},
     "output_type": "display_data"
    }
   ],
   "source": [
    "inertia = []\n",
    "for i in range(15):\n",
    "    kmeans = KMeans(n_clusters=n_cluster, random_state=42, n_init=10)\n",
    "    kmeans.fit(pd_user_scaled)\n",
    "    inertia.append(kmeans.inertia_)\n",
    "\n",
    "\n",
    "fig = px.line(\n",
    "    x=range(15),\n",
    "    y=inertia,\n",
    "    title=\"Elbow method for best number of cluster\",\n",
    ")\n",
    "fig.show()"
   ]
  },
  {
   "cell_type": "code",
   "execution_count": 76,
   "id": "8507603d-8989-4d3b-ad17-4f53e67c3e29",
   "metadata": {},
   "outputs": [],
   "source": [
    "n_cluster = 7\n",
    "kmeans = KMeans(n_clusters=n_cluster, random_state=42, n_init=10)\n",
    "cluster = kmeans.fit_predict(pd_user_scaled)\n",
    "pd_user[\"cluster\"] = cluster\n",
    "df_user = df_user.with_columns(pl.Series(\"cluster\", cluster))"
   ]
  },
  {
   "cell_type": "code",
   "execution_count": 77,
   "id": "27d38123-cce0-4f6f-ac1d-83dd9f8859f8",
   "metadata": {},
   "outputs": [],
   "source": [
    "df_interaction_cluster = df_interaction.join(\n",
    "    df_user.select([\"user_id\", \"cluster\"]),\n",
    "    on=\"user_id\",\n",
    "    how=\"left\",  # keep all interactions; add cluster where user_id matches\n",
    ")"
   ]
  },
  {
   "cell_type": "code",
   "execution_count": null,
   "id": "90d2b260-cd6a-4828-a18c-e674b8989c70",
   "metadata": {},
   "outputs": [],
   "source": [
    "fig = px.histogram(\n",
    "    pd_user,  # convert from Polars\n",
    "    x=\"cluster\",\n",
    "    nbins=n_cluster,  # one bin per cluster\n",
    "    title=\"Nombre d’utilisateurs par cluster\",\n",
    "    labels={\"cluster\": \"Cluster\", \"count\": \"Nombre d’utilisateurs\"},\n",
    ")\n",
    "fig.show()"
   ]
  },
  {
   "cell_type": "code",
   "execution_count": 62,
   "id": "dee2bf2c-ff09-494b-aa03-404c2a477305",
   "metadata": {},
   "outputs": [
    {
     "data": {
      "text/html": [
       "<div>\n",
       "<style scoped>\n",
       "    .dataframe tbody tr th:only-of-type {\n",
       "        vertical-align: middle;\n",
       "    }\n",
       "\n",
       "    .dataframe tbody tr th {\n",
       "        vertical-align: top;\n",
       "    }\n",
       "\n",
       "    .dataframe thead th {\n",
       "        text-align: right;\n",
       "    }\n",
       "</style>\n",
       "<table border=\"1\" class=\"dataframe\">\n",
       "  <thead>\n",
       "    <tr style=\"text-align: right;\">\n",
       "      <th></th>\n",
       "      <th>nb_reviews</th>\n",
       "      <th>mean_rating</th>\n",
       "      <th>std_rating</th>\n",
       "      <th>review_length</th>\n",
       "      <th>mean_time</th>\n",
       "      <th>cluster</th>\n",
       "    </tr>\n",
       "  </thead>\n",
       "  <tbody>\n",
       "    <tr>\n",
       "      <th>0</th>\n",
       "      <td>1</td>\n",
       "      <td>5.0</td>\n",
       "      <td>0.000000</td>\n",
       "      <td>12.0</td>\n",
       "      <td>80.0</td>\n",
       "      <td>0</td>\n",
       "    </tr>\n",
       "    <tr>\n",
       "      <th>1</th>\n",
       "      <td>2</td>\n",
       "      <td>2.5</td>\n",
       "      <td>0.707107</td>\n",
       "      <td>90.5</td>\n",
       "      <td>45.0</td>\n",
       "      <td>1</td>\n",
       "    </tr>\n",
       "    <tr>\n",
       "      <th>2</th>\n",
       "      <td>1</td>\n",
       "      <td>5.0</td>\n",
       "      <td>0.000000</td>\n",
       "      <td>31.0</td>\n",
       "      <td>16.0</td>\n",
       "      <td>0</td>\n",
       "    </tr>\n",
       "    <tr>\n",
       "      <th>3</th>\n",
       "      <td>2</td>\n",
       "      <td>5.0</td>\n",
       "      <td>0.000000</td>\n",
       "      <td>60.5</td>\n",
       "      <td>48.5</td>\n",
       "      <td>1</td>\n",
       "    </tr>\n",
       "    <tr>\n",
       "      <th>4</th>\n",
       "      <td>1</td>\n",
       "      <td>5.0</td>\n",
       "      <td>0.000000</td>\n",
       "      <td>29.0</td>\n",
       "      <td>3.0</td>\n",
       "      <td>0</td>\n",
       "    </tr>\n",
       "  </tbody>\n",
       "</table>\n",
       "</div>"
      ],
      "text/plain": [
       "   nb_reviews  mean_rating  std_rating  review_length  mean_time  cluster\n",
       "0           1          5.0    0.000000           12.0       80.0        0\n",
       "1           2          2.5    0.707107           90.5       45.0        1\n",
       "2           1          5.0    0.000000           31.0       16.0        0\n",
       "3           2          5.0    0.000000           60.5       48.5        1\n",
       "4           1          5.0    0.000000           29.0        3.0        0"
      ]
     },
     "execution_count": 62,
     "metadata": {},
     "output_type": "execute_result"
    }
   ],
   "source": [
    "pd_user.head()"
   ]
  },
  {
   "cell_type": "code",
   "execution_count": null,
   "id": "61d0ba6b-0067-4985-b3ec-23a14a0f51c7",
   "metadata": {},
   "outputs": [],
   "source": [
    "fig = px.scatter(\n",
    "    pd_user,\n",
    "    x=\"nb_reviews\",  # X-axis: number of reviews\n",
    "    y=\"mean_rating\",  # Z-axis: mean rating\n",
    "    color=\"cluster\",  # color by cluster\n",
    "    opacity=0.7,\n",
    "    title=\"nb_reviews vs mean_rating\",\n",
    "    labels={\n",
    "        \"nb_reviews\": \"Nombre de reviews\",\n",
    "        \"mean_rating\": \"Note moyenne\",\n",
    "        \"cluster\": \"Cluster\",\n",
    "    },\n",
    ")\n",
    "\n",
    "\n",
    "fig.update_traces(marker=dict(size=4))\n",
    "fig.show()"
   ]
  },
  {
   "cell_type": "code",
   "execution_count": null,
   "id": "c092ee6f-1e6d-4767-9533-51a96763b461",
   "metadata": {},
   "outputs": [],
   "source": [
    "fig = px.scatter(\n",
    "    pd_user,\n",
    "    x=\"nb_reviews\",  # X-axis: number of reviews\n",
    "    y=\"review_length\",  # Z-axis: mean rating\n",
    "    color=\"cluster\",  # color by cluster\n",
    "    opacity=0.7,\n",
    "    title=\"nb_reviews vs review_length\",\n",
    "    labels={\n",
    "        \"nb_reviews\": \"Nombre de reviews\",\n",
    "        \"review_length\": \"Longueur moyenne des reviews\",\n",
    "        \"cluster\": \"Cluster\",\n",
    "    },\n",
    ")\n",
    "\n",
    "\n",
    "fig.update_traces(marker=dict(size=4))\n",
    "fig.show()"
   ]
  },
  {
   "cell_type": "code",
   "execution_count": 61,
   "id": "cbb5c85f-a449-4643-80f0-71efb278e9ec",
   "metadata": {},
   "outputs": [
    {
     "data": {
      "application/vnd.plotly.v1+json": {
       "config": {
        "plotlyServerURL": "https://plot.ly"
       },
       "data": [
        {
         "hovertemplate": "cluster=1<br>Mois=%{x}<br>Nb interactions=%{y}<extra></extra>",
         "legendgroup": "1",
         "line": {
          "color": "#636efa",
          "dash": "solid"
         },
         "marker": {
          "symbol": "circle"
         },
         "mode": "lines",
         "name": "1",
         "orientation": "v",
         "showlegend": true,
         "type": "scatter",
         "x": [
          "2000-01-01T00:00:00.000000",
          "2000-09-01T00:00:00.000000",
          "2000-10-01T00:00:00.000000",
          "2000-11-01T00:00:00.000000",
          "2000-12-01T00:00:00.000000",
          "2001-01-01T00:00:00.000000",
          "2001-02-01T00:00:00.000000",
          "2001-03-01T00:00:00.000000",
          "2001-04-01T00:00:00.000000",
          "2001-05-01T00:00:00.000000",
          "2001-06-01T00:00:00.000000",
          "2001-07-01T00:00:00.000000",
          "2001-08-01T00:00:00.000000",
          "2001-09-01T00:00:00.000000",
          "2001-10-01T00:00:00.000000",
          "2001-11-01T00:00:00.000000",
          "2001-12-01T00:00:00.000000",
          "2002-01-01T00:00:00.000000",
          "2002-02-01T00:00:00.000000",
          "2002-03-01T00:00:00.000000",
          "2002-04-01T00:00:00.000000",
          "2002-05-01T00:00:00.000000",
          "2002-06-01T00:00:00.000000",
          "2002-07-01T00:00:00.000000",
          "2002-08-01T00:00:00.000000",
          "2002-09-01T00:00:00.000000",
          "2002-10-01T00:00:00.000000",
          "2002-11-01T00:00:00.000000",
          "2002-12-01T00:00:00.000000",
          "2003-01-01T00:00:00.000000",
          "2003-02-01T00:00:00.000000",
          "2003-03-01T00:00:00.000000",
          "2003-04-01T00:00:00.000000",
          "2003-05-01T00:00:00.000000",
          "2003-06-01T00:00:00.000000",
          "2003-07-01T00:00:00.000000",
          "2003-08-01T00:00:00.000000",
          "2003-09-01T00:00:00.000000",
          "2003-10-01T00:00:00.000000",
          "2003-11-01T00:00:00.000000",
          "2003-12-01T00:00:00.000000",
          "2004-01-01T00:00:00.000000",
          "2004-02-01T00:00:00.000000",
          "2004-03-01T00:00:00.000000",
          "2004-04-01T00:00:00.000000",
          "2004-05-01T00:00:00.000000",
          "2004-06-01T00:00:00.000000",
          "2004-07-01T00:00:00.000000",
          "2004-08-01T00:00:00.000000",
          "2004-09-01T00:00:00.000000",
          "2004-10-01T00:00:00.000000",
          "2004-11-01T00:00:00.000000",
          "2004-12-01T00:00:00.000000",
          "2005-01-01T00:00:00.000000",
          "2005-02-01T00:00:00.000000",
          "2005-03-01T00:00:00.000000",
          "2005-04-01T00:00:00.000000",
          "2005-05-01T00:00:00.000000",
          "2005-06-01T00:00:00.000000",
          "2005-07-01T00:00:00.000000",
          "2005-08-01T00:00:00.000000",
          "2005-09-01T00:00:00.000000",
          "2005-10-01T00:00:00.000000",
          "2005-11-01T00:00:00.000000",
          "2005-12-01T00:00:00.000000",
          "2006-01-01T00:00:00.000000",
          "2006-02-01T00:00:00.000000",
          "2006-03-01T00:00:00.000000",
          "2006-04-01T00:00:00.000000",
          "2006-05-01T00:00:00.000000",
          "2006-06-01T00:00:00.000000",
          "2006-07-01T00:00:00.000000",
          "2006-08-01T00:00:00.000000",
          "2006-09-01T00:00:00.000000",
          "2006-10-01T00:00:00.000000",
          "2006-11-01T00:00:00.000000",
          "2006-12-01T00:00:00.000000",
          "2007-01-01T00:00:00.000000",
          "2007-02-01T00:00:00.000000",
          "2007-03-01T00:00:00.000000",
          "2007-04-01T00:00:00.000000",
          "2007-05-01T00:00:00.000000",
          "2007-06-01T00:00:00.000000",
          "2007-07-01T00:00:00.000000",
          "2007-08-01T00:00:00.000000",
          "2007-09-01T00:00:00.000000",
          "2007-10-01T00:00:00.000000",
          "2007-11-01T00:00:00.000000",
          "2007-12-01T00:00:00.000000",
          "2008-01-01T00:00:00.000000",
          "2008-02-01T00:00:00.000000",
          "2008-03-01T00:00:00.000000",
          "2008-04-01T00:00:00.000000",
          "2008-05-01T00:00:00.000000",
          "2008-06-01T00:00:00.000000",
          "2008-07-01T00:00:00.000000",
          "2008-08-01T00:00:00.000000",
          "2008-09-01T00:00:00.000000",
          "2008-10-01T00:00:00.000000",
          "2008-11-01T00:00:00.000000",
          "2008-12-01T00:00:00.000000",
          "2009-01-01T00:00:00.000000",
          "2009-02-01T00:00:00.000000",
          "2009-03-01T00:00:00.000000",
          "2009-04-01T00:00:00.000000",
          "2009-05-01T00:00:00.000000",
          "2009-06-01T00:00:00.000000",
          "2009-07-01T00:00:00.000000",
          "2009-08-01T00:00:00.000000",
          "2009-09-01T00:00:00.000000",
          "2009-10-01T00:00:00.000000",
          "2009-11-01T00:00:00.000000",
          "2009-12-01T00:00:00.000000",
          "2010-01-01T00:00:00.000000",
          "2010-02-01T00:00:00.000000",
          "2010-03-01T00:00:00.000000",
          "2010-04-01T00:00:00.000000",
          "2010-05-01T00:00:00.000000",
          "2010-06-01T00:00:00.000000",
          "2010-07-01T00:00:00.000000",
          "2010-08-01T00:00:00.000000",
          "2010-09-01T00:00:00.000000",
          "2010-10-01T00:00:00.000000",
          "2010-11-01T00:00:00.000000",
          "2010-12-01T00:00:00.000000",
          "2011-01-01T00:00:00.000000",
          "2011-02-01T00:00:00.000000",
          "2011-03-01T00:00:00.000000",
          "2011-04-01T00:00:00.000000",
          "2011-05-01T00:00:00.000000",
          "2011-06-01T00:00:00.000000",
          "2011-07-01T00:00:00.000000",
          "2011-08-01T00:00:00.000000",
          "2011-09-01T00:00:00.000000",
          "2011-10-01T00:00:00.000000",
          "2011-11-01T00:00:00.000000",
          "2011-12-01T00:00:00.000000",
          "2012-01-01T00:00:00.000000",
          "2012-02-01T00:00:00.000000",
          "2012-03-01T00:00:00.000000",
          "2012-04-01T00:00:00.000000",
          "2012-05-01T00:00:00.000000",
          "2012-06-01T00:00:00.000000",
          "2012-07-01T00:00:00.000000",
          "2012-08-01T00:00:00.000000",
          "2012-09-01T00:00:00.000000",
          "2012-10-01T00:00:00.000000",
          "2012-11-01T00:00:00.000000",
          "2012-12-01T00:00:00.000000",
          "2013-01-01T00:00:00.000000",
          "2013-02-01T00:00:00.000000",
          "2013-03-01T00:00:00.000000",
          "2013-04-01T00:00:00.000000",
          "2013-05-01T00:00:00.000000",
          "2013-06-01T00:00:00.000000",
          "2013-07-01T00:00:00.000000",
          "2013-08-01T00:00:00.000000",
          "2013-09-01T00:00:00.000000",
          "2013-10-01T00:00:00.000000",
          "2013-11-01T00:00:00.000000",
          "2013-12-01T00:00:00.000000",
          "2014-01-01T00:00:00.000000",
          "2014-02-01T00:00:00.000000",
          "2014-03-01T00:00:00.000000",
          "2014-04-01T00:00:00.000000",
          "2014-05-01T00:00:00.000000",
          "2014-06-01T00:00:00.000000",
          "2014-07-01T00:00:00.000000",
          "2014-08-01T00:00:00.000000",
          "2014-09-01T00:00:00.000000",
          "2014-10-01T00:00:00.000000",
          "2014-11-01T00:00:00.000000",
          "2014-12-01T00:00:00.000000",
          "2015-01-01T00:00:00.000000",
          "2015-02-01T00:00:00.000000",
          "2015-03-01T00:00:00.000000",
          "2015-04-01T00:00:00.000000",
          "2015-05-01T00:00:00.000000",
          "2015-06-01T00:00:00.000000",
          "2015-07-01T00:00:00.000000",
          "2015-08-01T00:00:00.000000",
          "2015-09-01T00:00:00.000000",
          "2015-10-01T00:00:00.000000",
          "2015-11-01T00:00:00.000000",
          "2015-12-01T00:00:00.000000",
          "2016-01-01T00:00:00.000000",
          "2016-02-01T00:00:00.000000",
          "2016-03-01T00:00:00.000000",
          "2016-04-01T00:00:00.000000",
          "2016-05-01T00:00:00.000000",
          "2016-06-01T00:00:00.000000",
          "2016-07-01T00:00:00.000000",
          "2016-08-01T00:00:00.000000",
          "2016-09-01T00:00:00.000000",
          "2016-10-01T00:00:00.000000",
          "2016-11-01T00:00:00.000000",
          "2016-12-01T00:00:00.000000",
          "2017-01-01T00:00:00.000000",
          "2017-02-01T00:00:00.000000",
          "2017-03-01T00:00:00.000000",
          "2017-04-01T00:00:00.000000",
          "2017-05-01T00:00:00.000000",
          "2017-06-01T00:00:00.000000",
          "2017-07-01T00:00:00.000000",
          "2017-08-01T00:00:00.000000",
          "2017-09-01T00:00:00.000000",
          "2017-10-01T00:00:00.000000",
          "2017-11-01T00:00:00.000000",
          "2017-12-01T00:00:00.000000",
          "2018-01-01T00:00:00.000000",
          "2018-02-01T00:00:00.000000",
          "2018-03-01T00:00:00.000000",
          "2018-04-01T00:00:00.000000",
          "2018-05-01T00:00:00.000000",
          "2018-06-01T00:00:00.000000",
          "2018-07-01T00:00:00.000000",
          "2018-08-01T00:00:00.000000",
          "2018-09-01T00:00:00.000000",
          "2018-10-01T00:00:00.000000",
          "2018-11-01T00:00:00.000000",
          "2018-12-01T00:00:00.000000"
         ],
         "xaxis": "x",
         "y": {
          "bdata": "AgAAAAIAAAAIAAAAEwAAABgAAAAnAAAAHAAAACcAAAAsAAAAIwAAACcAAABCAAAAcgAAAHIAAACYAAAAfQAAAKoAAADYAAAA0QAAADEBAAAiAQAALgEAAFQBAAAxAQAAVgEAAGcBAACWAQAARgEAAGABAACDAQAAMwEAAFQBAAAJAQAAUAEAAGYBAACrAQAAnQEAAJsBAACWAQAA2AEAAPgBAAAOAgAAwwEAACUCAAATAgAAxgEAAAoCAAAdAgAACAIAANwBAAAGAgAASgIAAKkCAAC+AgAAawIAAMQCAAA7AgAAfwIAAE8CAAB1AgAAzwIAAH0CAADTAgAANwMAAIUDAAC4AwAAhAMAAEgDAACJAgAAwgIAALwCAABDAwAAtAMAAC0EAADIBAAA8wUAAPgFAABcBgAAWgUAAPsEAAAjBQAAtgQAAEkFAAAKBgAAJwYAAFAGAABRCAAA9AgAAKcKAAC3CwAAYwgAABMHAABMBgAAlwUAAJMGAACyBwAAgAcAAIgHAACCCAAAAAkAAFAKAADjCwAAbwkAAJgJAACwCAAAuQcAAHYHAACuCAAAJwkAANgIAABRCQAAjQkAAG0KAABuCwAAlQgAALMHAACaBgAA2AYAAL4GAAAtBQAAoQMAAKsDAAAvBAAAAgUAABAFAADPBQAAoAQAAHcEAABABAAAEwQAAP0DAAA9BAAAtwMAAOYDAAAHBAAAPAQAAEgEAAAdBQAAJwQAAAsFAAAcAwAACAMAADEDAACBAwAAAgMAAHYFAADuBAAAggQAACcFAAACBgAAcQYAAKUFAAASBAAAkgMAAKgDAAAmBAAAwgMAAIEDAADKAwAAOgQAAFIEAADYBAAAxgMAALsDAAA/BAAAvAIAAKECAADgAgAA6wIAAK8CAABRAgAAVAMAAMoDAADoAwAAPwIAAKADAAAIBAAAJwQAAFAEAABBBQAA4wQAAE4EAABfBAAAMwQAAF0DAAAuAwAATgIAAAMDAACgAgAA1gIAAKICAABDAwAAEAMAAPcCAAAuAwAAEAQAAA8FAADSBAAAHAQAAGYFAADnBAAAqQQAADsEAAB3BAAANQQAAHsDAADyAgAAIAQAAEQFAADIBQAAAgUAAGsFAAC0BAAA6gMAAIsDAAAVBAAAZQMAACYDAAA+AwAANQIAABoBAAA=",
          "dtype": "u4"
         },
         "yaxis": "y"
        },
        {
         "hovertemplate": "cluster=3<br>Mois=%{x}<br>Nb interactions=%{y}<extra></extra>",
         "legendgroup": "3",
         "line": {
          "color": "#EF553B",
          "dash": "solid"
         },
         "marker": {
          "symbol": "circle"
         },
         "mode": "lines",
         "name": "3",
         "orientation": "v",
         "showlegend": true,
         "type": "scatter",
         "x": [
          "2000-02-01T00:00:00.000000",
          "2000-03-01T00:00:00.000000",
          "2000-05-01T00:00:00.000000",
          "2000-09-01T00:00:00.000000",
          "2000-10-01T00:00:00.000000",
          "2000-11-01T00:00:00.000000",
          "2000-12-01T00:00:00.000000",
          "2001-01-01T00:00:00.000000",
          "2001-02-01T00:00:00.000000",
          "2001-03-01T00:00:00.000000",
          "2001-04-01T00:00:00.000000",
          "2001-05-01T00:00:00.000000",
          "2001-06-01T00:00:00.000000",
          "2001-07-01T00:00:00.000000",
          "2001-08-01T00:00:00.000000",
          "2001-09-01T00:00:00.000000",
          "2001-10-01T00:00:00.000000",
          "2001-11-01T00:00:00.000000",
          "2001-12-01T00:00:00.000000",
          "2002-01-01T00:00:00.000000",
          "2002-02-01T00:00:00.000000",
          "2002-03-01T00:00:00.000000",
          "2002-04-01T00:00:00.000000",
          "2002-05-01T00:00:00.000000",
          "2002-06-01T00:00:00.000000",
          "2002-07-01T00:00:00.000000",
          "2002-08-01T00:00:00.000000",
          "2002-09-01T00:00:00.000000",
          "2002-10-01T00:00:00.000000",
          "2002-11-01T00:00:00.000000",
          "2002-12-01T00:00:00.000000",
          "2003-01-01T00:00:00.000000",
          "2003-02-01T00:00:00.000000",
          "2003-03-01T00:00:00.000000",
          "2003-04-01T00:00:00.000000",
          "2003-05-01T00:00:00.000000",
          "2003-06-01T00:00:00.000000",
          "2003-07-01T00:00:00.000000",
          "2003-08-01T00:00:00.000000",
          "2003-09-01T00:00:00.000000",
          "2003-10-01T00:00:00.000000",
          "2003-11-01T00:00:00.000000",
          "2003-12-01T00:00:00.000000",
          "2004-01-01T00:00:00.000000",
          "2004-02-01T00:00:00.000000",
          "2004-03-01T00:00:00.000000",
          "2004-04-01T00:00:00.000000",
          "2004-05-01T00:00:00.000000",
          "2004-06-01T00:00:00.000000",
          "2004-07-01T00:00:00.000000",
          "2004-08-01T00:00:00.000000",
          "2004-09-01T00:00:00.000000",
          "2004-10-01T00:00:00.000000",
          "2004-11-01T00:00:00.000000",
          "2004-12-01T00:00:00.000000",
          "2005-01-01T00:00:00.000000",
          "2005-02-01T00:00:00.000000",
          "2005-03-01T00:00:00.000000",
          "2005-04-01T00:00:00.000000",
          "2005-05-01T00:00:00.000000",
          "2005-06-01T00:00:00.000000",
          "2005-07-01T00:00:00.000000",
          "2005-08-01T00:00:00.000000",
          "2005-09-01T00:00:00.000000",
          "2005-10-01T00:00:00.000000",
          "2005-11-01T00:00:00.000000",
          "2005-12-01T00:00:00.000000",
          "2006-01-01T00:00:00.000000",
          "2006-02-01T00:00:00.000000",
          "2006-03-01T00:00:00.000000",
          "2006-04-01T00:00:00.000000",
          "2006-05-01T00:00:00.000000",
          "2006-06-01T00:00:00.000000",
          "2006-07-01T00:00:00.000000",
          "2006-08-01T00:00:00.000000",
          "2006-09-01T00:00:00.000000",
          "2006-10-01T00:00:00.000000",
          "2006-11-01T00:00:00.000000",
          "2006-12-01T00:00:00.000000",
          "2007-01-01T00:00:00.000000",
          "2007-02-01T00:00:00.000000",
          "2007-03-01T00:00:00.000000",
          "2007-04-01T00:00:00.000000",
          "2007-05-01T00:00:00.000000",
          "2007-06-01T00:00:00.000000",
          "2007-07-01T00:00:00.000000",
          "2007-08-01T00:00:00.000000",
          "2007-09-01T00:00:00.000000",
          "2007-10-01T00:00:00.000000",
          "2007-11-01T00:00:00.000000",
          "2007-12-01T00:00:00.000000",
          "2008-01-01T00:00:00.000000",
          "2008-02-01T00:00:00.000000",
          "2008-03-01T00:00:00.000000",
          "2008-04-01T00:00:00.000000",
          "2008-05-01T00:00:00.000000",
          "2008-06-01T00:00:00.000000",
          "2008-07-01T00:00:00.000000",
          "2008-08-01T00:00:00.000000",
          "2008-09-01T00:00:00.000000",
          "2008-10-01T00:00:00.000000",
          "2008-11-01T00:00:00.000000",
          "2008-12-01T00:00:00.000000",
          "2009-01-01T00:00:00.000000",
          "2009-02-01T00:00:00.000000",
          "2009-03-01T00:00:00.000000",
          "2009-04-01T00:00:00.000000",
          "2009-05-01T00:00:00.000000",
          "2009-06-01T00:00:00.000000",
          "2009-07-01T00:00:00.000000",
          "2009-08-01T00:00:00.000000",
          "2009-09-01T00:00:00.000000",
          "2009-10-01T00:00:00.000000",
          "2009-11-01T00:00:00.000000",
          "2009-12-01T00:00:00.000000",
          "2010-01-01T00:00:00.000000",
          "2010-02-01T00:00:00.000000",
          "2010-03-01T00:00:00.000000",
          "2010-04-01T00:00:00.000000",
          "2010-05-01T00:00:00.000000",
          "2010-06-01T00:00:00.000000",
          "2010-07-01T00:00:00.000000",
          "2010-08-01T00:00:00.000000",
          "2010-09-01T00:00:00.000000",
          "2010-10-01T00:00:00.000000",
          "2010-11-01T00:00:00.000000",
          "2010-12-01T00:00:00.000000",
          "2011-01-01T00:00:00.000000",
          "2011-02-01T00:00:00.000000",
          "2011-03-01T00:00:00.000000",
          "2011-04-01T00:00:00.000000",
          "2011-05-01T00:00:00.000000",
          "2011-06-01T00:00:00.000000",
          "2011-07-01T00:00:00.000000",
          "2011-08-01T00:00:00.000000",
          "2011-09-01T00:00:00.000000",
          "2011-10-01T00:00:00.000000",
          "2011-11-01T00:00:00.000000",
          "2011-12-01T00:00:00.000000",
          "2012-01-01T00:00:00.000000",
          "2012-02-01T00:00:00.000000",
          "2012-03-01T00:00:00.000000",
          "2012-04-01T00:00:00.000000",
          "2012-05-01T00:00:00.000000",
          "2012-06-01T00:00:00.000000",
          "2012-07-01T00:00:00.000000",
          "2012-08-01T00:00:00.000000",
          "2012-09-01T00:00:00.000000",
          "2012-10-01T00:00:00.000000",
          "2012-11-01T00:00:00.000000",
          "2012-12-01T00:00:00.000000",
          "2013-01-01T00:00:00.000000",
          "2013-02-01T00:00:00.000000",
          "2013-03-01T00:00:00.000000",
          "2013-04-01T00:00:00.000000",
          "2013-05-01T00:00:00.000000",
          "2013-06-01T00:00:00.000000",
          "2013-07-01T00:00:00.000000",
          "2013-08-01T00:00:00.000000",
          "2013-09-01T00:00:00.000000",
          "2013-10-01T00:00:00.000000",
          "2013-11-01T00:00:00.000000",
          "2013-12-01T00:00:00.000000",
          "2014-01-01T00:00:00.000000",
          "2014-02-01T00:00:00.000000",
          "2014-03-01T00:00:00.000000",
          "2014-04-01T00:00:00.000000",
          "2014-05-01T00:00:00.000000",
          "2014-06-01T00:00:00.000000",
          "2014-07-01T00:00:00.000000",
          "2014-08-01T00:00:00.000000",
          "2014-09-01T00:00:00.000000",
          "2014-10-01T00:00:00.000000",
          "2014-11-01T00:00:00.000000",
          "2014-12-01T00:00:00.000000",
          "2015-01-01T00:00:00.000000",
          "2015-02-01T00:00:00.000000",
          "2015-03-01T00:00:00.000000",
          "2015-04-01T00:00:00.000000",
          "2015-05-01T00:00:00.000000",
          "2015-06-01T00:00:00.000000",
          "2015-07-01T00:00:00.000000",
          "2015-08-01T00:00:00.000000",
          "2015-09-01T00:00:00.000000",
          "2015-10-01T00:00:00.000000",
          "2015-11-01T00:00:00.000000",
          "2015-12-01T00:00:00.000000",
          "2016-01-01T00:00:00.000000",
          "2016-02-01T00:00:00.000000",
          "2016-03-01T00:00:00.000000",
          "2016-04-01T00:00:00.000000",
          "2016-05-01T00:00:00.000000",
          "2016-06-01T00:00:00.000000",
          "2016-07-01T00:00:00.000000",
          "2016-08-01T00:00:00.000000",
          "2016-09-01T00:00:00.000000",
          "2016-10-01T00:00:00.000000",
          "2016-11-01T00:00:00.000000",
          "2016-12-01T00:00:00.000000",
          "2017-01-01T00:00:00.000000",
          "2017-02-01T00:00:00.000000",
          "2017-03-01T00:00:00.000000",
          "2017-04-01T00:00:00.000000",
          "2017-05-01T00:00:00.000000",
          "2017-06-01T00:00:00.000000",
          "2017-07-01T00:00:00.000000",
          "2017-08-01T00:00:00.000000",
          "2017-09-01T00:00:00.000000",
          "2017-10-01T00:00:00.000000",
          "2017-11-01T00:00:00.000000",
          "2017-12-01T00:00:00.000000",
          "2018-01-01T00:00:00.000000",
          "2018-02-01T00:00:00.000000",
          "2018-03-01T00:00:00.000000",
          "2018-04-01T00:00:00.000000",
          "2018-05-01T00:00:00.000000",
          "2018-06-01T00:00:00.000000",
          "2018-07-01T00:00:00.000000",
          "2018-08-01T00:00:00.000000",
          "2018-09-01T00:00:00.000000",
          "2018-10-01T00:00:00.000000",
          "2018-11-01T00:00:00.000000",
          "2018-12-01T00:00:00.000000"
         ],
         "xaxis": "x",
         "y": {
          "bdata": "AwAAAAIAAAABAAAAAgAAAAYAAAACAAAABAAAAAYAAAALAAAACgAAAA0AAAAkAAAAQQAAAGMAAABcAAAAxgAAAEYBAABhAQAAVgEAABACAAALAwAAggMAAK8EAADeBAAAzQQAAJsFAABcBgAAuQcAAK4HAABZBwAA4AYAAMgIAADoBwAAFgoAAEkJAACbBwAAlAgAAM0JAACrCAAAJAkAAKwJAABdCQAApQkAAKgLAADICgAAOQwAADILAAAhDAAAewwAALoMAACCDAAAXwwAABANAABkDwAARw8AAIERAACkEAAAGBIAAIIRAADVEQAAXBEAAMURAAB6EQAAUBUAAHUXAADeEwAAeBMAAIEZAABwFAAAjhUAAG8UAAA4FgAAbRsAAK0bAADmFgAA8xkAAFceAABiGwAAtRwAAGMjAADCHwAAkSQAALAkAADUJgAAHC0AAAAlAADgJQAAGygAACgsAAD6JwAA5CwAAP83AAC4LQAA5ysAAMIsAADiKAAADjUAAGYqAACmJwAACCsAAKUsAAB4LQAAySwAAEg0AADrKAAAvSwAAAcsAAD5KQAA4yYAAHAoAAA1JgAAKCkAAGAoAADPJAAAQiYAAOspAAB9IgAA0iEAANYlAAAPIwAAZigAABgYAAAsEQAAtQ8AANgRAACoEQAA7BEAAJoUAABxEgAAahcAAPMRAACgEgAA/BYAALMQAAAIEAAAmw8AAGATAAC7DQAAfg4AAKwRAAD4DQAA/w0AAAUOAAAGCwAADQsAAOkNAABREQAAdQsAAHsNAAAKCwAAvAkAAMALAAB+DAAAGA0AAHsLAADwCAAAoQgAAMMLAAA6DgAATwkAAPQIAADoBwAA9wcAAHMIAAALBwAA8wYAAHcHAAAbBgAA7QMAANYDAACVBgAAsQUAAIADAADJAwAAAAQAAHMEAAD2AgAAgAIAABwCAAAoAgAAKAIAAP0BAADKAgAAegIAAPcBAAAYAgAA0QEAAN4BAACjAQAApAEAAEkBAAB6AQAAcwEAAOIBAACdAgAAuAEAANsBAAAlAgAAEgIAAEYCAADYAQAAZwIAAGYCAAANAgAA5gEAAPcBAADYAgAA0AEAAHIBAABVAQAAdAEAAIcBAACGAQAAfQEAACcBAAAlAQAACQEAAIYBAAC1AQAAIQEAAC0BAAC+AAAAbAAAAA==",
          "dtype": "u4"
         },
         "yaxis": "y"
        },
        {
         "hovertemplate": "cluster=0<br>Mois=%{x}<br>Nb interactions=%{y}<extra></extra>",
         "legendgroup": "0",
         "line": {
          "color": "#00cc96",
          "dash": "solid"
         },
         "marker": {
          "symbol": "circle"
         },
         "mode": "lines",
         "name": "0",
         "orientation": "v",
         "showlegend": true,
         "type": "scatter",
         "x": [
          "2000-06-01T00:00:00.000000",
          "2000-11-01T00:00:00.000000",
          "2000-12-01T00:00:00.000000",
          "2001-01-01T00:00:00.000000",
          "2001-02-01T00:00:00.000000",
          "2001-03-01T00:00:00.000000",
          "2001-04-01T00:00:00.000000",
          "2001-05-01T00:00:00.000000",
          "2001-06-01T00:00:00.000000",
          "2001-07-01T00:00:00.000000",
          "2001-08-01T00:00:00.000000",
          "2001-09-01T00:00:00.000000",
          "2001-10-01T00:00:00.000000",
          "2001-11-01T00:00:00.000000",
          "2001-12-01T00:00:00.000000",
          "2002-01-01T00:00:00.000000",
          "2002-02-01T00:00:00.000000",
          "2002-03-01T00:00:00.000000",
          "2002-04-01T00:00:00.000000",
          "2002-05-01T00:00:00.000000",
          "2002-06-01T00:00:00.000000",
          "2002-07-01T00:00:00.000000",
          "2002-08-01T00:00:00.000000",
          "2002-09-01T00:00:00.000000",
          "2002-10-01T00:00:00.000000",
          "2002-11-01T00:00:00.000000",
          "2002-12-01T00:00:00.000000",
          "2003-01-01T00:00:00.000000",
          "2003-02-01T00:00:00.000000",
          "2003-03-01T00:00:00.000000",
          "2003-04-01T00:00:00.000000",
          "2003-05-01T00:00:00.000000",
          "2003-06-01T00:00:00.000000",
          "2003-07-01T00:00:00.000000",
          "2003-08-01T00:00:00.000000",
          "2003-09-01T00:00:00.000000",
          "2003-10-01T00:00:00.000000",
          "2003-11-01T00:00:00.000000",
          "2003-12-01T00:00:00.000000",
          "2004-01-01T00:00:00.000000",
          "2004-02-01T00:00:00.000000",
          "2004-03-01T00:00:00.000000",
          "2004-04-01T00:00:00.000000",
          "2004-05-01T00:00:00.000000",
          "2004-06-01T00:00:00.000000",
          "2004-07-01T00:00:00.000000",
          "2004-08-01T00:00:00.000000",
          "2004-09-01T00:00:00.000000",
          "2004-10-01T00:00:00.000000",
          "2004-11-01T00:00:00.000000",
          "2004-12-01T00:00:00.000000",
          "2005-01-01T00:00:00.000000",
          "2005-02-01T00:00:00.000000",
          "2005-03-01T00:00:00.000000",
          "2005-04-01T00:00:00.000000",
          "2005-05-01T00:00:00.000000",
          "2005-06-01T00:00:00.000000",
          "2005-07-01T00:00:00.000000",
          "2005-08-01T00:00:00.000000",
          "2005-09-01T00:00:00.000000",
          "2005-10-01T00:00:00.000000",
          "2005-11-01T00:00:00.000000",
          "2005-12-01T00:00:00.000000",
          "2006-01-01T00:00:00.000000",
          "2006-02-01T00:00:00.000000",
          "2006-03-01T00:00:00.000000",
          "2006-04-01T00:00:00.000000",
          "2006-05-01T00:00:00.000000",
          "2006-06-01T00:00:00.000000",
          "2006-07-01T00:00:00.000000",
          "2006-08-01T00:00:00.000000",
          "2006-09-01T00:00:00.000000",
          "2006-10-01T00:00:00.000000",
          "2006-11-01T00:00:00.000000",
          "2006-12-01T00:00:00.000000",
          "2007-01-01T00:00:00.000000",
          "2007-02-01T00:00:00.000000",
          "2007-03-01T00:00:00.000000",
          "2007-04-01T00:00:00.000000",
          "2007-05-01T00:00:00.000000",
          "2007-06-01T00:00:00.000000",
          "2007-07-01T00:00:00.000000",
          "2007-08-01T00:00:00.000000",
          "2007-09-01T00:00:00.000000",
          "2007-10-01T00:00:00.000000",
          "2007-11-01T00:00:00.000000",
          "2007-12-01T00:00:00.000000",
          "2008-01-01T00:00:00.000000",
          "2008-02-01T00:00:00.000000",
          "2008-03-01T00:00:00.000000",
          "2008-04-01T00:00:00.000000",
          "2008-05-01T00:00:00.000000",
          "2008-06-01T00:00:00.000000",
          "2008-07-01T00:00:00.000000",
          "2008-08-01T00:00:00.000000",
          "2008-09-01T00:00:00.000000",
          "2008-10-01T00:00:00.000000",
          "2008-11-01T00:00:00.000000",
          "2008-12-01T00:00:00.000000",
          "2009-01-01T00:00:00.000000",
          "2009-02-01T00:00:00.000000",
          "2009-03-01T00:00:00.000000",
          "2009-04-01T00:00:00.000000",
          "2009-05-01T00:00:00.000000",
          "2009-06-01T00:00:00.000000",
          "2009-07-01T00:00:00.000000",
          "2009-08-01T00:00:00.000000",
          "2009-09-01T00:00:00.000000",
          "2009-10-01T00:00:00.000000",
          "2009-11-01T00:00:00.000000",
          "2009-12-01T00:00:00.000000",
          "2010-01-01T00:00:00.000000",
          "2010-02-01T00:00:00.000000",
          "2010-03-01T00:00:00.000000",
          "2010-04-01T00:00:00.000000",
          "2010-05-01T00:00:00.000000",
          "2010-06-01T00:00:00.000000",
          "2010-07-01T00:00:00.000000",
          "2010-08-01T00:00:00.000000",
          "2010-09-01T00:00:00.000000",
          "2010-10-01T00:00:00.000000",
          "2010-11-01T00:00:00.000000",
          "2010-12-01T00:00:00.000000",
          "2011-01-01T00:00:00.000000",
          "2011-02-01T00:00:00.000000",
          "2011-03-01T00:00:00.000000",
          "2011-04-01T00:00:00.000000",
          "2011-05-01T00:00:00.000000",
          "2011-06-01T00:00:00.000000",
          "2011-07-01T00:00:00.000000",
          "2011-08-01T00:00:00.000000",
          "2011-09-01T00:00:00.000000",
          "2011-10-01T00:00:00.000000",
          "2011-11-01T00:00:00.000000",
          "2011-12-01T00:00:00.000000",
          "2012-01-01T00:00:00.000000",
          "2012-02-01T00:00:00.000000",
          "2012-03-01T00:00:00.000000",
          "2012-04-01T00:00:00.000000",
          "2012-05-01T00:00:00.000000",
          "2012-06-01T00:00:00.000000",
          "2012-07-01T00:00:00.000000",
          "2012-08-01T00:00:00.000000",
          "2012-09-01T00:00:00.000000",
          "2012-10-01T00:00:00.000000",
          "2012-11-01T00:00:00.000000",
          "2012-12-01T00:00:00.000000",
          "2013-01-01T00:00:00.000000",
          "2013-02-01T00:00:00.000000",
          "2013-03-01T00:00:00.000000",
          "2013-04-01T00:00:00.000000",
          "2013-05-01T00:00:00.000000",
          "2013-06-01T00:00:00.000000",
          "2013-07-01T00:00:00.000000",
          "2013-08-01T00:00:00.000000",
          "2013-09-01T00:00:00.000000",
          "2013-10-01T00:00:00.000000",
          "2013-11-01T00:00:00.000000",
          "2013-12-01T00:00:00.000000",
          "2014-01-01T00:00:00.000000",
          "2014-02-01T00:00:00.000000",
          "2014-03-01T00:00:00.000000",
          "2014-04-01T00:00:00.000000",
          "2014-05-01T00:00:00.000000",
          "2014-06-01T00:00:00.000000",
          "2014-07-01T00:00:00.000000",
          "2014-08-01T00:00:00.000000",
          "2014-09-01T00:00:00.000000",
          "2014-10-01T00:00:00.000000",
          "2014-11-01T00:00:00.000000",
          "2014-12-01T00:00:00.000000",
          "2015-01-01T00:00:00.000000",
          "2015-02-01T00:00:00.000000",
          "2015-03-01T00:00:00.000000",
          "2015-04-01T00:00:00.000000",
          "2015-05-01T00:00:00.000000",
          "2015-06-01T00:00:00.000000",
          "2015-07-01T00:00:00.000000",
          "2015-08-01T00:00:00.000000",
          "2015-09-01T00:00:00.000000",
          "2015-10-01T00:00:00.000000",
          "2015-11-01T00:00:00.000000",
          "2015-12-01T00:00:00.000000",
          "2016-01-01T00:00:00.000000",
          "2016-02-01T00:00:00.000000",
          "2016-03-01T00:00:00.000000",
          "2016-04-01T00:00:00.000000",
          "2016-05-01T00:00:00.000000",
          "2016-06-01T00:00:00.000000",
          "2016-07-01T00:00:00.000000",
          "2016-08-01T00:00:00.000000",
          "2016-09-01T00:00:00.000000",
          "2016-10-01T00:00:00.000000",
          "2016-11-01T00:00:00.000000",
          "2016-12-01T00:00:00.000000",
          "2017-01-01T00:00:00.000000",
          "2017-02-01T00:00:00.000000",
          "2017-03-01T00:00:00.000000",
          "2017-04-01T00:00:00.000000",
          "2017-05-01T00:00:00.000000",
          "2017-06-01T00:00:00.000000",
          "2017-07-01T00:00:00.000000",
          "2017-08-01T00:00:00.000000",
          "2017-09-01T00:00:00.000000",
          "2017-10-01T00:00:00.000000",
          "2017-11-01T00:00:00.000000",
          "2017-12-01T00:00:00.000000",
          "2018-01-01T00:00:00.000000",
          "2018-02-01T00:00:00.000000",
          "2018-03-01T00:00:00.000000",
          "2018-04-01T00:00:00.000000",
          "2018-05-01T00:00:00.000000",
          "2018-06-01T00:00:00.000000",
          "2018-07-01T00:00:00.000000",
          "2018-08-01T00:00:00.000000",
          "2018-09-01T00:00:00.000000",
          "2018-10-01T00:00:00.000000",
          "2018-11-01T00:00:00.000000",
          "2018-12-01T00:00:00.000000"
         ],
         "xaxis": "x",
         "y": {
          "bdata": "AQAAAAUAAAADAAAABgAAAAYAAAAHAAAACgAAAAQAAAANAAAADwAAABYAAAAPAAAADwAAABQAAAAWAAAADwAAABcAAAAiAAAAFQAAACYAAAAhAAAADwAAAB0AAAAiAAAAHgAAABgAAAAXAAAAEgAAABIAAAAeAAAAFwAAABQAAAAUAAAAIwAAACAAAAAzAAAAFQAAABcAAAAaAAAAHAAAABoAAAAiAAAAHAAAACIAAAAWAAAAKgAAACkAAAAgAAAALQAAADEAAAA1AAAALQAAACoAAAAnAAAAHgAAACAAAAAkAAAAMAAAADwAAAAWAAAANwAAAEsAAAA6AAAANAAAADwAAABIAAAAMAAAADgAAAAwAAAASAAAACsAAAAgAAAAJgAAADMAAAA8AAAAKwAAACYAAAAyAAAAMwAAACcAAAAkAAAALQAAADcAAAA4AAAAPgAAAEkAAABvAAAAXwAAAOcAAAAUAQAAxgAAAKkAAADWAAAA6QAAAOcAAADNAAAA/AAAAO4AAABMAQAAOAEAAAABAADkAAAA1gAAALEAAADUAAAADgEAAP8AAAABAQAACwEAAOwAAAAxAQAAIwEAAOIAAAC5AAAAigAAAIgAAACeAAAAkAAAAIcAAAC8AAAA+AAAAAgBAAB2AQAAUgEAAO0AAAA0AQAA8QAAAPEAAADxAAAA9AAAAL8AAADMAAAAxQAAAP0AAABHAQAAEgEAANAAAADKAAAApgAAAJwAAACnAAAAwwAAANQAAAAlAQAAJwEAACsBAAB2AQAAawEAAE0BAABLAQAA/QAAAOwAAAD/AAAADAEAAAUBAAD5AAAA9gAAABQBAABTAQAAZQEAAA4BAAD8AAAA8AAAANsAAADPAAAADQEAANMAAADYAAAAqAAAADYBAAAjAQAAIAEAAJ8AAAD+AAAADwEAACEBAAAYAQAAaAEAADsBAAAhAQAARgEAACABAADRAAAA2wAAAH8AAAC3AAAAngAAAIEAAABxAAAAvgAAAIoAAAB5AAAAwwAAAC8CAACXAgAAFgIAAPQBAAAzAwAAqwIAAFgCAABPAgAAgQIAAHwCAAD9AQAAzQEAAIACAADzAgAAuQIAAHoCAADLAgAAKgIAAJYBAAB7AQAAnQEAAHcBAABrAQAAXwEAAJgAAAB1AAAA",
          "dtype": "u4"
         },
         "yaxis": "y"
        },
        {
         "hovertemplate": "cluster=2<br>Mois=%{x}<br>Nb interactions=%{y}<extra></extra>",
         "legendgroup": "2",
         "line": {
          "color": "#ab63fa",
          "dash": "solid"
         },
         "marker": {
          "symbol": "circle"
         },
         "mode": "lines",
         "name": "2",
         "orientation": "v",
         "showlegend": true,
         "type": "scatter",
         "x": [
          "2001-11-01T00:00:00.000000",
          "2002-01-01T00:00:00.000000",
          "2002-03-01T00:00:00.000000",
          "2002-05-01T00:00:00.000000",
          "2003-02-01T00:00:00.000000",
          "2003-05-01T00:00:00.000000",
          "2003-09-01T00:00:00.000000",
          "2003-11-01T00:00:00.000000",
          "2004-08-01T00:00:00.000000",
          "2004-09-01T00:00:00.000000",
          "2005-06-01T00:00:00.000000",
          "2006-01-01T00:00:00.000000",
          "2006-02-01T00:00:00.000000",
          "2007-01-01T00:00:00.000000",
          "2007-08-01T00:00:00.000000",
          "2007-11-01T00:00:00.000000",
          "2008-01-01T00:00:00.000000",
          "2008-06-01T00:00:00.000000",
          "2008-09-01T00:00:00.000000",
          "2008-12-01T00:00:00.000000",
          "2009-04-01T00:00:00.000000",
          "2010-02-01T00:00:00.000000",
          "2010-05-01T00:00:00.000000",
          "2011-09-01T00:00:00.000000",
          "2011-10-01T00:00:00.000000",
          "2012-09-01T00:00:00.000000",
          "2012-12-01T00:00:00.000000",
          "2013-07-01T00:00:00.000000",
          "2013-08-01T00:00:00.000000",
          "2013-12-01T00:00:00.000000",
          "2014-01-01T00:00:00.000000",
          "2014-06-01T00:00:00.000000",
          "2014-10-01T00:00:00.000000",
          "2014-11-01T00:00:00.000000",
          "2015-08-01T00:00:00.000000",
          "2015-09-01T00:00:00.000000",
          "2015-10-01T00:00:00.000000",
          "2015-12-01T00:00:00.000000",
          "2016-03-01T00:00:00.000000",
          "2016-10-01T00:00:00.000000",
          "2016-11-01T00:00:00.000000",
          "2017-02-01T00:00:00.000000",
          "2017-05-01T00:00:00.000000",
          "2017-08-01T00:00:00.000000",
          "2017-11-01T00:00:00.000000",
          "2018-06-01T00:00:00.000000",
          "2018-08-01T00:00:00.000000"
         ],
         "xaxis": "x",
         "y": {
          "bdata": "AQAAAAEAAAABAAAAAQAAAAEAAAABAAAAAQAAAAEAAAADAAAAAQAAAAIAAAABAAAAAQAAAAEAAAABAAAAAgAAAAEAAAACAAAAAQAAAAEAAAACAAAAAQAAAAEAAAABAAAAAQAAAAEAAAABAAAAAgAAAAEAAAABAAAAAQAAAAEAAAABAAAAAQAAAAEAAAABAAAAAgAAAAEAAAABAAAAAQAAAAIAAAACAAAAAQAAAAEAAAABAAAAAQAAAAEAAAA=",
          "dtype": "u4"
         },
         "yaxis": "y"
        }
       ],
       "layout": {
        "legend": {
         "title": {
          "text": "cluster"
         },
         "tracegroupgap": 0
        },
        "template": {
         "data": {
          "bar": [
           {
            "error_x": {
             "color": "#2a3f5f"
            },
            "error_y": {
             "color": "#2a3f5f"
            },
            "marker": {
             "line": {
              "color": "#E5ECF6",
              "width": 0.5
             },
             "pattern": {
              "fillmode": "overlay",
              "size": 10,
              "solidity": 0.2
             }
            },
            "type": "bar"
           }
          ],
          "barpolar": [
           {
            "marker": {
             "line": {
              "color": "#E5ECF6",
              "width": 0.5
             },
             "pattern": {
              "fillmode": "overlay",
              "size": 10,
              "solidity": 0.2
             }
            },
            "type": "barpolar"
           }
          ],
          "carpet": [
           {
            "aaxis": {
             "endlinecolor": "#2a3f5f",
             "gridcolor": "white",
             "linecolor": "white",
             "minorgridcolor": "white",
             "startlinecolor": "#2a3f5f"
            },
            "baxis": {
             "endlinecolor": "#2a3f5f",
             "gridcolor": "white",
             "linecolor": "white",
             "minorgridcolor": "white",
             "startlinecolor": "#2a3f5f"
            },
            "type": "carpet"
           }
          ],
          "choropleth": [
           {
            "colorbar": {
             "outlinewidth": 0,
             "ticks": ""
            },
            "type": "choropleth"
           }
          ],
          "contour": [
           {
            "colorbar": {
             "outlinewidth": 0,
             "ticks": ""
            },
            "colorscale": [
             [
              0,
              "#0d0887"
             ],
             [
              0.1111111111111111,
              "#46039f"
             ],
             [
              0.2222222222222222,
              "#7201a8"
             ],
             [
              0.3333333333333333,
              "#9c179e"
             ],
             [
              0.4444444444444444,
              "#bd3786"
             ],
             [
              0.5555555555555556,
              "#d8576b"
             ],
             [
              0.6666666666666666,
              "#ed7953"
             ],
             [
              0.7777777777777778,
              "#fb9f3a"
             ],
             [
              0.8888888888888888,
              "#fdca26"
             ],
             [
              1,
              "#f0f921"
             ]
            ],
            "type": "contour"
           }
          ],
          "contourcarpet": [
           {
            "colorbar": {
             "outlinewidth": 0,
             "ticks": ""
            },
            "type": "contourcarpet"
           }
          ],
          "heatmap": [
           {
            "colorbar": {
             "outlinewidth": 0,
             "ticks": ""
            },
            "colorscale": [
             [
              0,
              "#0d0887"
             ],
             [
              0.1111111111111111,
              "#46039f"
             ],
             [
              0.2222222222222222,
              "#7201a8"
             ],
             [
              0.3333333333333333,
              "#9c179e"
             ],
             [
              0.4444444444444444,
              "#bd3786"
             ],
             [
              0.5555555555555556,
              "#d8576b"
             ],
             [
              0.6666666666666666,
              "#ed7953"
             ],
             [
              0.7777777777777778,
              "#fb9f3a"
             ],
             [
              0.8888888888888888,
              "#fdca26"
             ],
             [
              1,
              "#f0f921"
             ]
            ],
            "type": "heatmap"
           }
          ],
          "histogram": [
           {
            "marker": {
             "pattern": {
              "fillmode": "overlay",
              "size": 10,
              "solidity": 0.2
             }
            },
            "type": "histogram"
           }
          ],
          "histogram2d": [
           {
            "colorbar": {
             "outlinewidth": 0,
             "ticks": ""
            },
            "colorscale": [
             [
              0,
              "#0d0887"
             ],
             [
              0.1111111111111111,
              "#46039f"
             ],
             [
              0.2222222222222222,
              "#7201a8"
             ],
             [
              0.3333333333333333,
              "#9c179e"
             ],
             [
              0.4444444444444444,
              "#bd3786"
             ],
             [
              0.5555555555555556,
              "#d8576b"
             ],
             [
              0.6666666666666666,
              "#ed7953"
             ],
             [
              0.7777777777777778,
              "#fb9f3a"
             ],
             [
              0.8888888888888888,
              "#fdca26"
             ],
             [
              1,
              "#f0f921"
             ]
            ],
            "type": "histogram2d"
           }
          ],
          "histogram2dcontour": [
           {
            "colorbar": {
             "outlinewidth": 0,
             "ticks": ""
            },
            "colorscale": [
             [
              0,
              "#0d0887"
             ],
             [
              0.1111111111111111,
              "#46039f"
             ],
             [
              0.2222222222222222,
              "#7201a8"
             ],
             [
              0.3333333333333333,
              "#9c179e"
             ],
             [
              0.4444444444444444,
              "#bd3786"
             ],
             [
              0.5555555555555556,
              "#d8576b"
             ],
             [
              0.6666666666666666,
              "#ed7953"
             ],
             [
              0.7777777777777778,
              "#fb9f3a"
             ],
             [
              0.8888888888888888,
              "#fdca26"
             ],
             [
              1,
              "#f0f921"
             ]
            ],
            "type": "histogram2dcontour"
           }
          ],
          "mesh3d": [
           {
            "colorbar": {
             "outlinewidth": 0,
             "ticks": ""
            },
            "type": "mesh3d"
           }
          ],
          "parcoords": [
           {
            "line": {
             "colorbar": {
              "outlinewidth": 0,
              "ticks": ""
             }
            },
            "type": "parcoords"
           }
          ],
          "pie": [
           {
            "automargin": true,
            "type": "pie"
           }
          ],
          "scatter": [
           {
            "fillpattern": {
             "fillmode": "overlay",
             "size": 10,
             "solidity": 0.2
            },
            "type": "scatter"
           }
          ],
          "scatter3d": [
           {
            "line": {
             "colorbar": {
              "outlinewidth": 0,
              "ticks": ""
             }
            },
            "marker": {
             "colorbar": {
              "outlinewidth": 0,
              "ticks": ""
             }
            },
            "type": "scatter3d"
           }
          ],
          "scattercarpet": [
           {
            "marker": {
             "colorbar": {
              "outlinewidth": 0,
              "ticks": ""
             }
            },
            "type": "scattercarpet"
           }
          ],
          "scattergeo": [
           {
            "marker": {
             "colorbar": {
              "outlinewidth": 0,
              "ticks": ""
             }
            },
            "type": "scattergeo"
           }
          ],
          "scattergl": [
           {
            "marker": {
             "colorbar": {
              "outlinewidth": 0,
              "ticks": ""
             }
            },
            "type": "scattergl"
           }
          ],
          "scattermap": [
           {
            "marker": {
             "colorbar": {
              "outlinewidth": 0,
              "ticks": ""
             }
            },
            "type": "scattermap"
           }
          ],
          "scattermapbox": [
           {
            "marker": {
             "colorbar": {
              "outlinewidth": 0,
              "ticks": ""
             }
            },
            "type": "scattermapbox"
           }
          ],
          "scatterpolar": [
           {
            "marker": {
             "colorbar": {
              "outlinewidth": 0,
              "ticks": ""
             }
            },
            "type": "scatterpolar"
           }
          ],
          "scatterpolargl": [
           {
            "marker": {
             "colorbar": {
              "outlinewidth": 0,
              "ticks": ""
             }
            },
            "type": "scatterpolargl"
           }
          ],
          "scatterternary": [
           {
            "marker": {
             "colorbar": {
              "outlinewidth": 0,
              "ticks": ""
             }
            },
            "type": "scatterternary"
           }
          ],
          "surface": [
           {
            "colorbar": {
             "outlinewidth": 0,
             "ticks": ""
            },
            "colorscale": [
             [
              0,
              "#0d0887"
             ],
             [
              0.1111111111111111,
              "#46039f"
             ],
             [
              0.2222222222222222,
              "#7201a8"
             ],
             [
              0.3333333333333333,
              "#9c179e"
             ],
             [
              0.4444444444444444,
              "#bd3786"
             ],
             [
              0.5555555555555556,
              "#d8576b"
             ],
             [
              0.6666666666666666,
              "#ed7953"
             ],
             [
              0.7777777777777778,
              "#fb9f3a"
             ],
             [
              0.8888888888888888,
              "#fdca26"
             ],
             [
              1,
              "#f0f921"
             ]
            ],
            "type": "surface"
           }
          ],
          "table": [
           {
            "cells": {
             "fill": {
              "color": "#EBF0F8"
             },
             "line": {
              "color": "white"
             }
            },
            "header": {
             "fill": {
              "color": "#C8D4E3"
             },
             "line": {
              "color": "white"
             }
            },
            "type": "table"
           }
          ]
         },
         "layout": {
          "annotationdefaults": {
           "arrowcolor": "#2a3f5f",
           "arrowhead": 0,
           "arrowwidth": 1
          },
          "autotypenumbers": "strict",
          "coloraxis": {
           "colorbar": {
            "outlinewidth": 0,
            "ticks": ""
           }
          },
          "colorscale": {
           "diverging": [
            [
             0,
             "#8e0152"
            ],
            [
             0.1,
             "#c51b7d"
            ],
            [
             0.2,
             "#de77ae"
            ],
            [
             0.3,
             "#f1b6da"
            ],
            [
             0.4,
             "#fde0ef"
            ],
            [
             0.5,
             "#f7f7f7"
            ],
            [
             0.6,
             "#e6f5d0"
            ],
            [
             0.7,
             "#b8e186"
            ],
            [
             0.8,
             "#7fbc41"
            ],
            [
             0.9,
             "#4d9221"
            ],
            [
             1,
             "#276419"
            ]
           ],
           "sequential": [
            [
             0,
             "#0d0887"
            ],
            [
             0.1111111111111111,
             "#46039f"
            ],
            [
             0.2222222222222222,
             "#7201a8"
            ],
            [
             0.3333333333333333,
             "#9c179e"
            ],
            [
             0.4444444444444444,
             "#bd3786"
            ],
            [
             0.5555555555555556,
             "#d8576b"
            ],
            [
             0.6666666666666666,
             "#ed7953"
            ],
            [
             0.7777777777777778,
             "#fb9f3a"
            ],
            [
             0.8888888888888888,
             "#fdca26"
            ],
            [
             1,
             "#f0f921"
            ]
           ],
           "sequentialminus": [
            [
             0,
             "#0d0887"
            ],
            [
             0.1111111111111111,
             "#46039f"
            ],
            [
             0.2222222222222222,
             "#7201a8"
            ],
            [
             0.3333333333333333,
             "#9c179e"
            ],
            [
             0.4444444444444444,
             "#bd3786"
            ],
            [
             0.5555555555555556,
             "#d8576b"
            ],
            [
             0.6666666666666666,
             "#ed7953"
            ],
            [
             0.7777777777777778,
             "#fb9f3a"
            ],
            [
             0.8888888888888888,
             "#fdca26"
            ],
            [
             1,
             "#f0f921"
            ]
           ]
          },
          "colorway": [
           "#636efa",
           "#EF553B",
           "#00cc96",
           "#ab63fa",
           "#FFA15A",
           "#19d3f3",
           "#FF6692",
           "#B6E880",
           "#FF97FF",
           "#FECB52"
          ],
          "font": {
           "color": "#2a3f5f"
          },
          "geo": {
           "bgcolor": "white",
           "lakecolor": "white",
           "landcolor": "#E5ECF6",
           "showlakes": true,
           "showland": true,
           "subunitcolor": "white"
          },
          "hoverlabel": {
           "align": "left"
          },
          "hovermode": "closest",
          "mapbox": {
           "style": "light"
          },
          "paper_bgcolor": "white",
          "plot_bgcolor": "#E5ECF6",
          "polar": {
           "angularaxis": {
            "gridcolor": "white",
            "linecolor": "white",
            "ticks": ""
           },
           "bgcolor": "#E5ECF6",
           "radialaxis": {
            "gridcolor": "white",
            "linecolor": "white",
            "ticks": ""
           }
          },
          "scene": {
           "xaxis": {
            "backgroundcolor": "#E5ECF6",
            "gridcolor": "white",
            "gridwidth": 2,
            "linecolor": "white",
            "showbackground": true,
            "ticks": "",
            "zerolinecolor": "white"
           },
           "yaxis": {
            "backgroundcolor": "#E5ECF6",
            "gridcolor": "white",
            "gridwidth": 2,
            "linecolor": "white",
            "showbackground": true,
            "ticks": "",
            "zerolinecolor": "white"
           },
           "zaxis": {
            "backgroundcolor": "#E5ECF6",
            "gridcolor": "white",
            "gridwidth": 2,
            "linecolor": "white",
            "showbackground": true,
            "ticks": "",
            "zerolinecolor": "white"
           }
          },
          "shapedefaults": {
           "line": {
            "color": "#2a3f5f"
           }
          },
          "ternary": {
           "aaxis": {
            "gridcolor": "white",
            "linecolor": "white",
            "ticks": ""
           },
           "baxis": {
            "gridcolor": "white",
            "linecolor": "white",
            "ticks": ""
           },
           "bgcolor": "#E5ECF6",
           "caxis": {
            "gridcolor": "white",
            "linecolor": "white",
            "ticks": ""
           }
          },
          "title": {
           "x": 0.05
          },
          "xaxis": {
           "automargin": true,
           "gridcolor": "white",
           "linecolor": "white",
           "ticks": "",
           "title": {
            "standoff": 15
           },
           "zerolinecolor": "white",
           "zerolinewidth": 2
          },
          "yaxis": {
           "automargin": true,
           "gridcolor": "white",
           "linecolor": "white",
           "ticks": "",
           "title": {
            "standoff": 15
           },
           "zerolinecolor": "white",
           "zerolinewidth": 2
          }
         }
        },
        "title": {
         "text": "Interactions par cluster (mensuel)"
        },
        "xaxis": {
         "anchor": "y",
         "domain": [
          0,
          1
         ],
         "title": {
          "text": "Mois"
         },
         "type": "date"
        },
        "yaxis": {
         "anchor": "x",
         "domain": [
          0,
          1
         ],
         "title": {
          "text": "Nb interactions"
         }
        }
       }
      },
      "image/png": "[encoded data removed]"
     },
     "metadata": {},
     "output_type": "display_data"
    }
   ],
   "source": [
    "df_time = (\n",
    "    df_interaction_cluster.with_columns(\n",
    "        pl.col(\"date\").dt.truncate(\"1mo\").alias(\"month\")\n",
    "    )\n",
    "    .group_by([\"month\", \"cluster\"])\n",
    "    .agg(pl.len().alias(\"n_interactions\"))\n",
    "    .sort(\"month\")\n",
    ")\n",
    "\n",
    "pdf = df_time.to_pandas()\n",
    "\n",
    "fig = px.line(\n",
    "    pdf,\n",
    "    x=\"month\",\n",
    "    y=\"n_interactions\",\n",
    "    color=\"cluster\",\n",
    "    title=\"Interactions par cluster (mensuel)\",\n",
    "    labels={\"month\": \"Mois\", \"n_interactions\": \"Nb interactions\"},\n",
    ")\n",
    "fig.update_xaxes(type=\"date\")\n",
    "fig.show()"
   ]
  },
  {
   "cell_type": "code",
   "execution_count": null,
   "id": "e3089d02-1f7c-47a3-8041-8fdf5530eb24",
   "metadata": {},
   "outputs": [],
   "source": []
  }
 ],
 "metadata": {
  "kernelspec": {
   "display_name": "Python 3.12 (mangetamain)",
   "language": "python",
   "name": "venv-3.12-mangetamain"
  },
  "language_info": {
   "codemirror_mode": {
    "name": "ipython",
    "version": 3
   },
   "file_extension": ".py",
   "mimetype": "text/x-python",
   "name": "python",
   "nbconvert_exporter": "python",
   "pygments_lexer": "ipython3",
   "version": "3.12.11"
  }
 },
 "nbformat": 4,
 "nbformat_minor": 5
}
