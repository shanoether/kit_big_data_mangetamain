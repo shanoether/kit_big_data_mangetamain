{
 "cells": [
  {
   "cell_type": "markdown",
   "id": "eeb56bdf",
   "metadata": {},
   "source": [
    "# Exploratory Data Analysis (MS Big Data and IA) \n",
    "\n",
    "For any questions on the course or this notebook: charlotte.laclau@telecom-paris.fr\n",
    "\n",
    "The purpose of this practical is to make you go through the different eda techniques presented during the course. \n",
    "We will work with this lab for several sessions. \n",
    "\n",
    "The dataset that we will consider consists of food recipes and recipe reviews covering 18 years of user interactions and uploads on Food.com (formerly GeniusKitchen). It is often used to evaluate machine learning models that perform recipe recommendations. We will mainly study two files : recipe.csv and inter.csv. \n",
    "\n",
    "## Organisation of the sessions \n",
    "\n",
    "\n",
    "This lab is splitted into several parts. The begining is well guided and has your skills improve, you'll have to be more independent. Mandatory questions are in <span style=\"color:blue\">blue</span> in the subsequent notebook. \n",
    "At the end of each part you have a small bonus section. I strongly encourage you to do them (not only for the grade but mostly to improve your python coding skills). \n",
    "\n",
    "\n",
    "## Evaluation \n",
    "\n",
    "At the end of the course, this lab with be graded. Here are some guidelines about what I expect from you. \n",
    "- At the end of our last course, you will upload your notebook along with a `requirement.txt` file on ecampus \n",
    "- Your code needs to be carefully commented \n",
    "- You have to write a few sentence commenting all the results that you obtained ! I suggest to group results and write intermediate conclusions answering the different questions. \n",
    "- I don't want to see any personalized functions or classes in the main notebook. Think modular code! If you want to write specific functions write them in some `utils.py` file. The main notebook code should be as light as possible. "
   ]
  },
  {
   "cell_type": "markdown",
   "id": "44d1f71c",
   "metadata": {},
   "source": [
    "## Part 1 - Univariate Analysis"
   ]
  },
  {
   "cell_type": "code",
   "execution_count": 1,
   "id": "0c11e5dd",
   "metadata": {},
   "outputs": [],
   "source": [
    "import matplotlib.pyplot as plt\n",
    "import numpy as np\n",
    "import pandas as pd\n",
    "import seaborn as sns"
   ]
  },
  {
   "cell_type": "markdown",
   "id": "78c42143",
   "metadata": {},
   "source": [
    "Let us start with the recipe file that contains the reciped submitted to the website describes by several features. \n",
    "Below you'll find some code to read the data and print the first three rows. I used the `panda` library for these two steps, meaning that I will be manipulating a dataframe object. "
   ]
  },
  {
   "cell_type": "code",
   "execution_count": 2,
   "id": "9e61080f",
   "metadata": {},
   "outputs": [
    {
     "data": {
      "text/html": [
       "<div>\n",
       "<style scoped>\n",
       "    .dataframe tbody tr th:only-of-type {\n",
       "        vertical-align: middle;\n",
       "    }\n",
       "\n",
       "    .dataframe tbody tr th {\n",
       "        vertical-align: top;\n",
       "    }\n",
       "\n",
       "    .dataframe thead th {\n",
       "        text-align: right;\n",
       "    }\n",
       "</style>\n",
       "<table border=\"1\" class=\"dataframe\">\n",
       "  <thead>\n",
       "    <tr style=\"text-align: right;\">\n",
       "      <th></th>\n",
       "      <th>name</th>\n",
       "      <th>id</th>\n",
       "      <th>minutes</th>\n",
       "      <th>contributor_id</th>\n",
       "      <th>submitted</th>\n",
       "      <th>tags</th>\n",
       "      <th>nutrition</th>\n",
       "      <th>n_steps</th>\n",
       "      <th>steps</th>\n",
       "      <th>description</th>\n",
       "      <th>ingredients</th>\n",
       "      <th>n_ingredients</th>\n",
       "    </tr>\n",
       "  </thead>\n",
       "  <tbody>\n",
       "    <tr>\n",
       "      <th>0</th>\n",
       "      <td>arriba   baked winter squash mexican style</td>\n",
       "      <td>137739</td>\n",
       "      <td>55</td>\n",
       "      <td>47892</td>\n",
       "      <td>2005-09-16</td>\n",
       "      <td>['60-minutes-or-less', 'time-to-make', 'course...</td>\n",
       "      <td>[51.5, 0.0, 13.0, 0.0, 2.0, 0.0, 4.0]</td>\n",
       "      <td>11</td>\n",
       "      <td>['make a choice and proceed with recipe', 'dep...</td>\n",
       "      <td>autumn is my favorite time of year to cook! th...</td>\n",
       "      <td>['winter squash', 'mexican seasoning', 'mixed ...</td>\n",
       "      <td>7</td>\n",
       "    </tr>\n",
       "    <tr>\n",
       "      <th>1</th>\n",
       "      <td>a bit different  breakfast pizza</td>\n",
       "      <td>31490</td>\n",
       "      <td>30</td>\n",
       "      <td>26278</td>\n",
       "      <td>2002-06-17</td>\n",
       "      <td>['30-minutes-or-less', 'time-to-make', 'course...</td>\n",
       "      <td>[173.4, 18.0, 0.0, 17.0, 22.0, 35.0, 1.0]</td>\n",
       "      <td>9</td>\n",
       "      <td>['preheat oven to 425 degrees f', 'press dough...</td>\n",
       "      <td>this recipe calls for the crust to be prebaked...</td>\n",
       "      <td>['prepared pizza crust', 'sausage patty', 'egg...</td>\n",
       "      <td>6</td>\n",
       "    </tr>\n",
       "    <tr>\n",
       "      <th>2</th>\n",
       "      <td>all in the kitchen  chili</td>\n",
       "      <td>112140</td>\n",
       "      <td>130</td>\n",
       "      <td>196586</td>\n",
       "      <td>2005-02-25</td>\n",
       "      <td>['time-to-make', 'course', 'preparation', 'mai...</td>\n",
       "      <td>[269.8, 22.0, 32.0, 48.0, 39.0, 27.0, 5.0]</td>\n",
       "      <td>6</td>\n",
       "      <td>['brown ground beef in large pot', 'add choppe...</td>\n",
       "      <td>this modified version of 'mom's' chili was a h...</td>\n",
       "      <td>['ground beef', 'yellow onions', 'diced tomato...</td>\n",
       "      <td>13</td>\n",
       "    </tr>\n",
       "  </tbody>\n",
       "</table>\n",
       "</div>"
      ],
      "text/plain": [
       "                                         name      id  minutes  \\\n",
       "0  arriba   baked winter squash mexican style  137739       55   \n",
       "1            a bit different  breakfast pizza   31490       30   \n",
       "2                   all in the kitchen  chili  112140      130   \n",
       "\n",
       "   contributor_id   submitted  \\\n",
       "0           47892  2005-09-16   \n",
       "1           26278  2002-06-17   \n",
       "2          196586  2005-02-25   \n",
       "\n",
       "                                                tags  \\\n",
       "0  ['60-minutes-or-less', 'time-to-make', 'course...   \n",
       "1  ['30-minutes-or-less', 'time-to-make', 'course...   \n",
       "2  ['time-to-make', 'course', 'preparation', 'mai...   \n",
       "\n",
       "                                    nutrition  n_steps  \\\n",
       "0       [51.5, 0.0, 13.0, 0.0, 2.0, 0.0, 4.0]       11   \n",
       "1   [173.4, 18.0, 0.0, 17.0, 22.0, 35.0, 1.0]        9   \n",
       "2  [269.8, 22.0, 32.0, 48.0, 39.0, 27.0, 5.0]        6   \n",
       "\n",
       "                                               steps  \\\n",
       "0  ['make a choice and proceed with recipe', 'dep...   \n",
       "1  ['preheat oven to 425 degrees f', 'press dough...   \n",
       "2  ['brown ground beef in large pot', 'add choppe...   \n",
       "\n",
       "                                         description  \\\n",
       "0  autumn is my favorite time of year to cook! th...   \n",
       "1  this recipe calls for the crust to be prebaked...   \n",
       "2  this modified version of 'mom's' chili was a h...   \n",
       "\n",
       "                                         ingredients  n_ingredients  \n",
       "0  ['winter squash', 'mexican seasoning', 'mixed ...              7  \n",
       "1  ['prepared pizza crust', 'sausage patty', 'egg...              6  \n",
       "2  ['ground beef', 'yellow onions', 'diced tomato...             13  "
      ]
     },
     "execution_count": 2,
     "metadata": {},
     "output_type": "execute_result"
    }
   ],
   "source": [
    "# Import the data and print the first three rows\n",
    "recipe = pd.read_csv(\"../data/RAW_recipes.csv\")\n",
    "recipe.head(3)"
   ]
  },
  {
   "cell_type": "markdown",
   "id": "b0fd96e3",
   "metadata": {},
   "source": [
    "**Questions** \n",
    "- <span style=\"color:blue\">How many recipes are in the file ? </span>\n",
    "- <span style=\"color:blue\">How many variables do you have. Write the list in a md cell along with the type of the variable for each.</span>\n",
    "- <span style=\"color:blue\">Are there any missing values in your dataset?</span>"
   ]
  },
  {
   "cell_type": "code",
   "execution_count": 3,
   "id": "8bcb062c",
   "metadata": {},
   "outputs": [
    {
     "name": "stdout",
     "output_type": "stream",
     "text": [
      "Nombre de recettes : 231637\n",
      "Variables : 12\n",
      "Index(['name', 'id', 'minutes', 'contributor_id', 'submitted', 'tags',\n",
      "       'nutrition', 'n_steps', 'steps', 'description', 'ingredients',\n",
      "       'n_ingredients'],\n",
      "      dtype='object')\n",
      "Valeurs manquantes : 4980\n"
     ]
    }
   ],
   "source": [
    "print(\"Nombre de recettes :\", recipe.shape[0])\n",
    "print(\"Variables :\", recipe.shape[1])\n",
    "print(recipe.columns)\n",
    "print(\"Valeurs manquantes :\", recipe.isna().sum().sum())"
   ]
  },
  {
   "cell_type": "markdown",
   "id": "d9e2ad1c",
   "metadata": {},
   "source": [
    "List of variables:\n",
    "- name"
   ]
  },
  {
   "cell_type": "markdown",
   "id": "de4eee5a",
   "metadata": {},
   "source": [
    "Comments:"
   ]
  },
  {
   "cell_type": "markdown",
   "id": "0cf7bccd",
   "metadata": {},
   "source": [
    "### A example of univariate analysis with *minutes*\n",
    "\n",
    "Let's start by analysing the feature **minutes**. It corresponds to the number of minutes required to make a given recipe. Here a few questions to answer to \n",
    "- What is the average time required to make a recipe on the website ? \n",
    "- What are the fastest and the longest recipe, and how long do they take ? \n",
    "\n",
    "For both questions we will use some statistics including the mean, the minimum and the maximum. "
   ]
  },
  {
   "cell_type": "code",
   "execution_count": 4,
   "id": "fe35b514",
   "metadata": {},
   "outputs": [
    {
     "name": "stdout",
     "output_type": "stream",
     "text": [
      "Average time for recipes:  9398.546009488984\n"
     ]
    }
   ],
   "source": [
    "# Average time\n",
    "avg_time = recipe[\"minutes\"].mean()\n",
    "print(\"Average time for recipes: \", avg_time)"
   ]
  },
  {
   "cell_type": "markdown",
   "id": "4f501680",
   "metadata": {},
   "source": [
    "Odd ? What do you think ? \n",
    "Let's convert the maximum into hours and minutes to make it easier to understand. "
   ]
  },
  {
   "cell_type": "code",
   "execution_count": 5,
   "id": "b8fc4264",
   "metadata": {},
   "outputs": [
    {
     "name": "stdout",
     "output_type": "stream",
     "text": [
      "Average time is 156 hours and 39 minutes!\n"
     ]
    }
   ],
   "source": [
    "# Get hours with floor division\n",
    "hours = avg_time // 60\n",
    "\n",
    "# Get minutes with modulus\n",
    "minutes = avg_time % 60\n",
    "\n",
    "print(f\"Average time is {round(hours)} hours and {round(minutes)} minutes!\")"
   ]
  },
  {
   "cell_type": "markdown",
   "id": "4b8dd60d",
   "metadata": {},
   "source": [
    "Seems a lot ! I prefer to order in that case. Let's see what can cause this very high number by trying to answer the second question."
   ]
  },
  {
   "cell_type": "code",
   "execution_count": 6,
   "id": "45ec1dfa",
   "metadata": {},
   "outputs": [
    {
     "name": "stdout",
     "output_type": "stream",
     "text": [
      "Maximum cooking time 2147483647\n",
      "Minimum cooking time 0\n"
     ]
    }
   ],
   "source": [
    "print(\"Maximum cooking time\", recipe[\"minutes\"].max())\n",
    "print(\"Minimum cooking time\", recipe[\"minutes\"].min())"
   ]
  },
  {
   "cell_type": "markdown",
   "id": "ab590c38",
   "metadata": {},
   "source": [
    "So the longest cooking recipe roughly takes around 4085 years to be made ... while the minumum is 0. Seems like we have some outliers. \n",
    "\n",
    "Questions\n",
    "- <span style=\"color:blue\"> Print the row(s) of the dataframe corresponding to the maximum value for minutes </span>\n",
    "- <span style=\"color:blue\"> Print the number of row(s) of the dataframe corresponding to the minimum value for minutes </span>\n",
    "- <span style=\"color:blue\"> Choose an appropriate visualisation to highlight these outliers</span>"
   ]
  },
  {
   "cell_type": "code",
   "execution_count": 7,
   "id": "a09dfa7a",
   "metadata": {},
   "outputs": [
    {
     "data": {
      "text/html": [
       "<div>\n",
       "<style scoped>\n",
       "    .dataframe tbody tr th:only-of-type {\n",
       "        vertical-align: middle;\n",
       "    }\n",
       "\n",
       "    .dataframe tbody tr th {\n",
       "        vertical-align: top;\n",
       "    }\n",
       "\n",
       "    .dataframe thead th {\n",
       "        text-align: right;\n",
       "    }\n",
       "</style>\n",
       "<table border=\"1\" class=\"dataframe\">\n",
       "  <thead>\n",
       "    <tr style=\"text-align: right;\">\n",
       "      <th></th>\n",
       "      <th>name</th>\n",
       "      <th>id</th>\n",
       "      <th>minutes</th>\n",
       "      <th>contributor_id</th>\n",
       "      <th>submitted</th>\n",
       "      <th>tags</th>\n",
       "      <th>nutrition</th>\n",
       "      <th>n_steps</th>\n",
       "      <th>steps</th>\n",
       "      <th>description</th>\n",
       "      <th>ingredients</th>\n",
       "      <th>n_ingredients</th>\n",
       "    </tr>\n",
       "  </thead>\n",
       "  <tbody>\n",
       "    <tr>\n",
       "      <th>144074</th>\n",
       "      <td>no bake granola balls</td>\n",
       "      <td>261647</td>\n",
       "      <td>2147483647</td>\n",
       "      <td>464080</td>\n",
       "      <td>2007-10-26</td>\n",
       "      <td>['60-minutes-or-less', 'time-to-make', 'course...</td>\n",
       "      <td>[330.3, 23.0, 110.0, 4.0, 15.0, 24.0, 15.0]</td>\n",
       "      <td>9</td>\n",
       "      <td>['preheat the oven to 350 degrees', 'spread oa...</td>\n",
       "      <td>healthy snacks that kids (and grown ups) will ...</td>\n",
       "      <td>['rolled oats', 'unsweetened dried shredded co...</td>\n",
       "      <td>8</td>\n",
       "    </tr>\n",
       "  </tbody>\n",
       "</table>\n",
       "</div>"
      ],
      "text/plain": [
       "                         name      id     minutes  contributor_id   submitted  \\\n",
       "144074  no bake granola balls  261647  2147483647          464080  2007-10-26   \n",
       "\n",
       "                                                     tags  \\\n",
       "144074  ['60-minutes-or-less', 'time-to-make', 'course...   \n",
       "\n",
       "                                          nutrition  n_steps  \\\n",
       "144074  [330.3, 23.0, 110.0, 4.0, 15.0, 24.0, 15.0]        9   \n",
       "\n",
       "                                                    steps  \\\n",
       "144074  ['preheat the oven to 350 degrees', 'spread oa...   \n",
       "\n",
       "                                              description  \\\n",
       "144074  healthy snacks that kids (and grown ups) will ...   \n",
       "\n",
       "                                              ingredients  n_ingredients  \n",
       "144074  ['rolled oats', 'unsweetened dried shredded co...              8  "
      ]
     },
     "execution_count": 7,
     "metadata": {},
     "output_type": "execute_result"
    }
   ],
   "source": [
    "recipe[recipe[\"minutes\"] == recipe[\"minutes\"].max()]"
   ]
  },
  {
   "cell_type": "code",
   "execution_count": 8,
   "id": "7a80b675",
   "metadata": {},
   "outputs": [
    {
     "data": {
      "text/html": [
       "<div>\n",
       "<style scoped>\n",
       "    .dataframe tbody tr th:only-of-type {\n",
       "        vertical-align: middle;\n",
       "    }\n",
       "\n",
       "    .dataframe tbody tr th {\n",
       "        vertical-align: top;\n",
       "    }\n",
       "\n",
       "    .dataframe thead th {\n",
       "        text-align: right;\n",
       "    }\n",
       "</style>\n",
       "<table border=\"1\" class=\"dataframe\">\n",
       "  <thead>\n",
       "    <tr style=\"text-align: right;\">\n",
       "      <th></th>\n",
       "      <th>name</th>\n",
       "      <th>id</th>\n",
       "      <th>minutes</th>\n",
       "      <th>contributor_id</th>\n",
       "      <th>submitted</th>\n",
       "      <th>tags</th>\n",
       "      <th>nutrition</th>\n",
       "      <th>n_steps</th>\n",
       "      <th>steps</th>\n",
       "      <th>description</th>\n",
       "      <th>ingredients</th>\n",
       "      <th>n_ingredients</th>\n",
       "    </tr>\n",
       "  </thead>\n",
       "  <tbody>\n",
       "    <tr>\n",
       "      <th>5</th>\n",
       "      <td>apple a day  milk shake</td>\n",
       "      <td>5289</td>\n",
       "      <td>0</td>\n",
       "      <td>1533</td>\n",
       "      <td>1999-12-06</td>\n",
       "      <td>['15-minutes-or-less', 'time-to-make', 'course...</td>\n",
       "      <td>[160.2, 10.0, 55.0, 3.0, 9.0, 20.0, 7.0]</td>\n",
       "      <td>4</td>\n",
       "      <td>['combine ingredients in blender', 'cover and ...</td>\n",
       "      <td>NaN</td>\n",
       "      <td>['milk', 'vanilla ice cream', 'frozen apple ju...</td>\n",
       "      <td>4</td>\n",
       "    </tr>\n",
       "    <tr>\n",
       "      <th>2451</th>\n",
       "      <td>acorn magic delights</td>\n",
       "      <td>1712</td>\n",
       "      <td>0</td>\n",
       "      <td>1534</td>\n",
       "      <td>1999-10-01</td>\n",
       "      <td>['15-minutes-or-less', 'time-to-make', 'course...</td>\n",
       "      <td>[148.4, 15.0, 28.0, 2.0, 3.0, 21.0, 4.0]</td>\n",
       "      <td>13</td>\n",
       "      <td>['melt the butter or margarine over low heat',...</td>\n",
       "      <td>NaN</td>\n",
       "      <td>['butter', 'brown sugar', 'pecans', 'all-purpo...</td>\n",
       "      <td>7</td>\n",
       "    </tr>\n",
       "    <tr>\n",
       "      <th>3079</th>\n",
       "      <td>albanian byrek</td>\n",
       "      <td>4880</td>\n",
       "      <td>0</td>\n",
       "      <td>1534</td>\n",
       "      <td>1999-11-24</td>\n",
       "      <td>['15-minutes-or-less', 'time-to-make', 'course...</td>\n",
       "      <td>[354.4, 42.0, 25.0, 59.0, 37.0, 37.0, 2.0]</td>\n",
       "      <td>14</td>\n",
       "      <td>['prepare the dough with flour , 1 and a half ...</td>\n",
       "      <td>the directions to this are vague, but maybe yo...</td>\n",
       "      <td>['flour', 'water', 'oil', 'vinegar', 'salt', '...</td>\n",
       "      <td>9</td>\n",
       "    </tr>\n",
       "    <tr>\n",
       "      <th>3193</th>\n",
       "      <td>alfredo sauce with pasta</td>\n",
       "      <td>3258</td>\n",
       "      <td>0</td>\n",
       "      <td>1534</td>\n",
       "      <td>1999-10-10</td>\n",
       "      <td>['15-minutes-or-less', 'time-to-make', 'course...</td>\n",
       "      <td>[1902.9, 287.0, 5.0, 140.0, 104.0, 583.0, 3.0]</td>\n",
       "      <td>8</td>\n",
       "      <td>['cook noodles or fettuccine according to pack...</td>\n",
       "      <td>NaN</td>\n",
       "      <td>['butter', 'heavy cream', 'parmesan cheese', '...</td>\n",
       "      <td>6</td>\n",
       "    </tr>\n",
       "    <tr>\n",
       "      <th>3259</th>\n",
       "      <td>alice s doughnuts</td>\n",
       "      <td>2284</td>\n",
       "      <td>0</td>\n",
       "      <td>1752</td>\n",
       "      <td>1999-10-18</td>\n",
       "      <td>['15-minutes-or-less', 'time-to-make', 'course...</td>\n",
       "      <td>[107.3, 6.0, 20.0, 3.0, 3.0, 10.0, 4.0]</td>\n",
       "      <td>17</td>\n",
       "      <td>['in a large bowl , beat the eggs until foamy'...</td>\n",
       "      <td>NaN</td>\n",
       "      <td>['eggs', 'sugar', 'milk', 'shortening', 'vanil...</td>\n",
       "      <td>9</td>\n",
       "    </tr>\n",
       "  </tbody>\n",
       "</table>\n",
       "</div>"
      ],
      "text/plain": [
       "                          name    id  minutes  contributor_id   submitted  \\\n",
       "5      apple a day  milk shake  5289        0            1533  1999-12-06   \n",
       "2451      acorn magic delights  1712        0            1534  1999-10-01   \n",
       "3079            albanian byrek  4880        0            1534  1999-11-24   \n",
       "3193  alfredo sauce with pasta  3258        0            1534  1999-10-10   \n",
       "3259         alice s doughnuts  2284        0            1752  1999-10-18   \n",
       "\n",
       "                                                   tags  \\\n",
       "5     ['15-minutes-or-less', 'time-to-make', 'course...   \n",
       "2451  ['15-minutes-or-less', 'time-to-make', 'course...   \n",
       "3079  ['15-minutes-or-less', 'time-to-make', 'course...   \n",
       "3193  ['15-minutes-or-less', 'time-to-make', 'course...   \n",
       "3259  ['15-minutes-or-less', 'time-to-make', 'course...   \n",
       "\n",
       "                                           nutrition  n_steps  \\\n",
       "5           [160.2, 10.0, 55.0, 3.0, 9.0, 20.0, 7.0]        4   \n",
       "2451        [148.4, 15.0, 28.0, 2.0, 3.0, 21.0, 4.0]       13   \n",
       "3079      [354.4, 42.0, 25.0, 59.0, 37.0, 37.0, 2.0]       14   \n",
       "3193  [1902.9, 287.0, 5.0, 140.0, 104.0, 583.0, 3.0]        8   \n",
       "3259         [107.3, 6.0, 20.0, 3.0, 3.0, 10.0, 4.0]       17   \n",
       "\n",
       "                                                  steps  \\\n",
       "5     ['combine ingredients in blender', 'cover and ...   \n",
       "2451  ['melt the butter or margarine over low heat',...   \n",
       "3079  ['prepare the dough with flour , 1 and a half ...   \n",
       "3193  ['cook noodles or fettuccine according to pack...   \n",
       "3259  ['in a large bowl , beat the eggs until foamy'...   \n",
       "\n",
       "                                            description  \\\n",
       "5                                                   NaN   \n",
       "2451                                                NaN   \n",
       "3079  the directions to this are vague, but maybe yo...   \n",
       "3193                                                NaN   \n",
       "3259                                                NaN   \n",
       "\n",
       "                                            ingredients  n_ingredients  \n",
       "5     ['milk', 'vanilla ice cream', 'frozen apple ju...              4  \n",
       "2451  ['butter', 'brown sugar', 'pecans', 'all-purpo...              7  \n",
       "3079  ['flour', 'water', 'oil', 'vinegar', 'salt', '...              9  \n",
       "3193  ['butter', 'heavy cream', 'parmesan cheese', '...              6  \n",
       "3259  ['eggs', 'sugar', 'milk', 'shortening', 'vanil...              9  "
      ]
     },
     "execution_count": 8,
     "metadata": {},
     "output_type": "execute_result"
    }
   ],
   "source": [
    "recipe[recipe[\"minutes\"] == recipe[\"minutes\"].min()].head(5)"
   ]
  },
  {
   "cell_type": "code",
   "execution_count": 9,
   "id": "27899dbe-65b6-4f4c-b48c-7b97697e404c",
   "metadata": {},
   "outputs": [
    {
     "data": {
      "image/png": "[encoded data removed]",
      "text/plain": [
       "<Figure size 640x480 with 1 Axes>"
      ]
     },
     "metadata": {},
     "output_type": "display_data"
    }
   ],
   "source": [
    "plt.boxplot(recipe[\"minutes\"])\n",
    "plt.show()"
   ]
  },
  {
   "cell_type": "markdown",
   "id": "ca2b3f6e",
   "metadata": {},
   "source": [
    "### Matplotlib\n",
    "\n",
    "#### Online Documentation\n",
    "\n",
    "The [matplotlib.org](https://matplotlib.org/) project website is the primary online resource for the library's documentation. It contains the example galleries, FAQs, API documentation, and tutorials.\n",
    "You can take a look at the [Gallery](https://matplotlib.org/stable/gallery/index.html) to see the variety of ways one can make figures."
   ]
  },
  {
   "cell_type": "markdown",
   "id": "d8aab21a",
   "metadata": {},
   "source": [
    "#### Basics of Matplotlib\n",
    "\n",
    "Let's start by taking a closer look at the anatomy of a Matplolib plot by answering to the following questions. \n",
    "\n",
    "1. **What exactly is a Figure?** \n",
    "\n",
    "The top level container for all the plot elements. It is the overall window or page that everything is drawn on. The Figure object is instantiated by calling the `figure()` function from the pyplot module. You can create multiple independent Figures. A Figure can have several other things in it, such as a title, which is a centered title to the figure. You’ll also find that you can add a legend and color bar, for example, to your Figure.\n",
    "\n",
    "2. **What are the Axes?** \n",
    "\n",
    "To the figure you add Axes. Axes object is the region of the image with the data space. A given figure can contain many Axes, but a given Axes object can only be in one Figure. The Axes contains two (or three in the case of 3D visualisation) Axis objects (x and y). Axes can have ticks, labels, etc. associated with it.\n",
    "\n",
    "\n",
    "**Note** We have previously imported the `pyplot` module of the `matplotlib` library under the alias `plt`.\n",
    "Pyplot provides the state-machine interface to the underlying plotting library in matplotlib. This means that figures and axes are implicitly and automatically created to achieve the desired plot. For example, calling `plot` from `pyplot` will automatically create the necessary figure and axes to achieve the desired plot."
   ]
  },
  {
   "cell_type": "markdown",
   "id": "7561d8f4",
   "metadata": {},
   "source": [
    "Now that we have identified an abnormal values, what can we do with it? \n",
    "\n",
    "*Easy answer*: remove it ! (let's do this for now)\n",
    "\n",
    "*Fancy answer*: consider this as a missing data input and impute it (keep that for later).\n",
    "\n",
    "**Question**\n",
    "- <span style=\"color:blue\">Remove the recipe containing these abnormal values and check the new size of the data</span>\n",
    "- <span style=\"color:blue\">Plot the variable minutes with a boxplot -- this time you can try seaborn!</span>\n",
    "- <span style=\"color:blue\">Check the new maximum and minimum</span>\n",
    "- <span style=\"color:blue\">Print the 5 first observations for which abnormal values are observed. Comment</span>\n",
    "- <span style=\"color:blue\">Propose a strategy to deal with these observations.</span>\n",
    "- <span style=\"color:blue\">In total how many observations have you removed?</span>"
   ]
  },
  {
   "cell_type": "code",
   "execution_count": 10,
   "id": "1da386b9",
   "metadata": {},
   "outputs": [],
   "source": [
    "recipe = recipe.drop(recipe.index[recipe[\"minutes\"] == recipe[\"minutes\"].max()])\n",
    "recipe.loc[recipe[\"minutes\"] == 0, \"minutes\"] = np.nan"
   ]
  },
  {
   "cell_type": "code",
   "execution_count": 11,
   "id": "476e326c",
   "metadata": {},
   "outputs": [
    {
     "data": {
      "image/png": "[encoded data removed]",
      "text/plain": [
       "<Figure size 640x480 with 1 Axes>"
      ]
     },
     "metadata": {},
     "output_type": "display_data"
    }
   ],
   "source": [
    "sns.boxplot(recipe[\"minutes\"])\n",
    "plt.show()"
   ]
  },
  {
   "cell_type": "code",
   "execution_count": 12,
   "id": "d8924c62",
   "metadata": {},
   "outputs": [
    {
     "name": "stdout",
     "output_type": "stream",
     "text": [
      "1.0 1051200.0\n"
     ]
    }
   ],
   "source": [
    "print(recipe[\"minutes\"].min(), recipe[\"minutes\"].max())"
   ]
  },
  {
   "cell_type": "markdown",
   "id": "f58a6c7f",
   "metadata": {},
   "source": [
    "Comments: "
   ]
  },
  {
   "cell_type": "code",
   "execution_count": 13,
   "id": "9f02deef",
   "metadata": {},
   "outputs": [
    {
     "data": {
      "text/html": [
       "<div>\n",
       "<style scoped>\n",
       "    .dataframe tbody tr th:only-of-type {\n",
       "        vertical-align: middle;\n",
       "    }\n",
       "\n",
       "    .dataframe tbody tr th {\n",
       "        vertical-align: top;\n",
       "    }\n",
       "\n",
       "    .dataframe thead th {\n",
       "        text-align: right;\n",
       "    }\n",
       "</style>\n",
       "<table border=\"1\" class=\"dataframe\">\n",
       "  <thead>\n",
       "    <tr style=\"text-align: right;\">\n",
       "      <th></th>\n",
       "      <th>name</th>\n",
       "      <th>id</th>\n",
       "      <th>minutes</th>\n",
       "      <th>contributor_id</th>\n",
       "      <th>submitted</th>\n",
       "      <th>tags</th>\n",
       "      <th>nutrition</th>\n",
       "      <th>n_steps</th>\n",
       "      <th>steps</th>\n",
       "      <th>description</th>\n",
       "      <th>ingredients</th>\n",
       "      <th>n_ingredients</th>\n",
       "    </tr>\n",
       "  </thead>\n",
       "  <tbody>\n",
       "    <tr>\n",
       "      <th>5497</th>\n",
       "      <td>angelica liqueur</td>\n",
       "      <td>70551</td>\n",
       "      <td>201610.0</td>\n",
       "      <td>59064</td>\n",
       "      <td>2003-09-04</td>\n",
       "      <td>['weeknight', 'time-to-make', 'course', 'cuisi...</td>\n",
       "      <td>[891.8, 0.0, 906.0, 0.0, 1.0, 0.0, 76.0]</td>\n",
       "      <td>7</td>\n",
       "      <td>['crush the fennel , aniseed , coriander seeds...</td>\n",
       "      <td>finish off a large meal with a tiny glass of t...</td>\n",
       "      <td>['fennel seed', 'anise seed', 'coriander seeds...</td>\n",
       "      <td>7</td>\n",
       "    </tr>\n",
       "    <tr>\n",
       "      <th>6545</th>\n",
       "      <td>apple cinnamon liqueur</td>\n",
       "      <td>236379</td>\n",
       "      <td>129615.0</td>\n",
       "      <td>327115</td>\n",
       "      <td>2007-06-21</td>\n",
       "      <td>['time-to-make', 'course', 'preparation', 'low...</td>\n",
       "      <td>[4.2, 0.0, 2.0, 0.0, 0.0, 0.0, 0.0]</td>\n",
       "      <td>7</td>\n",
       "      <td>['in a quart jar , add apple , cinnamon sticks...</td>\n",
       "      <td>this is amazing.  a really nice amber color an...</td>\n",
       "      <td>['granny smith apple', 'cinnamon sticks', 'vod...</td>\n",
       "      <td>6</td>\n",
       "    </tr>\n",
       "    <tr>\n",
       "      <th>8529</th>\n",
       "      <td>armenian basterma  dried cured beef</td>\n",
       "      <td>21584</td>\n",
       "      <td>47520.0</td>\n",
       "      <td>29203</td>\n",
       "      <td>2002-03-05</td>\n",
       "      <td>['weeknight', 'time-to-make', 'course', 'main-...</td>\n",
       "      <td>[5.3, 0.0, 0.0, 102.0, 0.0, 0.0, 0.0]</td>\n",
       "      <td>12</td>\n",
       "      <td>['select very tender cut of beef from rib part...</td>\n",
       "      <td>this is armenian cured spiced beef. it is a wo...</td>\n",
       "      <td>['beef', 'salt', 'chaimen', 'paprika', 'red pe...</td>\n",
       "      <td>10</td>\n",
       "    </tr>\n",
       "    <tr>\n",
       "      <th>12124</th>\n",
       "      <td>bachelor s brandy</td>\n",
       "      <td>41404</td>\n",
       "      <td>86400.0</td>\n",
       "      <td>21752</td>\n",
       "      <td>2002-09-30</td>\n",
       "      <td>['weeknight', 'time-to-make', 'course', 'main-...</td>\n",
       "      <td>[2716.0, 1.0, 266.0, 0.0, 14.0, 0.0, 62.0]</td>\n",
       "      <td>8</td>\n",
       "      <td>['place the berries in a 1 quart glass contain...</td>\n",
       "      <td>a great way to bring the summer fruits into th...</td>\n",
       "      <td>['mixed berries', 'granulated sugar', 'vanilla...</td>\n",
       "      <td>4</td>\n",
       "    </tr>\n",
       "    <tr>\n",
       "      <th>21938</th>\n",
       "      <td>berry cordial</td>\n",
       "      <td>102098</td>\n",
       "      <td>43380.0</td>\n",
       "      <td>31807</td>\n",
       "      <td>2004-10-15</td>\n",
       "      <td>['time-to-make', 'course', 'preparation', 'for...</td>\n",
       "      <td>[185.8, 0.0, 111.0, 0.0, 1.0, 0.0, 10.0]</td>\n",
       "      <td>14</td>\n",
       "      <td>['put berries in a 6-8qt pot and add water', '...</td>\n",
       "      <td>a recipe from my friend roy heflin. note that ...</td>\n",
       "      <td>['blackberries', 'water', 'sugar', 'vodka']</td>\n",
       "      <td>4</td>\n",
       "    </tr>\n",
       "  </tbody>\n",
       "</table>\n",
       "</div>"
      ],
      "text/plain": [
       "                                      name      id   minutes  contributor_id  \\\n",
       "5497                      angelica liqueur   70551  201610.0           59064   \n",
       "6545                apple cinnamon liqueur  236379  129615.0          327115   \n",
       "8529   armenian basterma  dried cured beef   21584   47520.0           29203   \n",
       "12124                    bachelor s brandy   41404   86400.0           21752   \n",
       "21938                        berry cordial  102098   43380.0           31807   \n",
       "\n",
       "        submitted                                               tags  \\\n",
       "5497   2003-09-04  ['weeknight', 'time-to-make', 'course', 'cuisi...   \n",
       "6545   2007-06-21  ['time-to-make', 'course', 'preparation', 'low...   \n",
       "8529   2002-03-05  ['weeknight', 'time-to-make', 'course', 'main-...   \n",
       "12124  2002-09-30  ['weeknight', 'time-to-make', 'course', 'main-...   \n",
       "21938  2004-10-15  ['time-to-make', 'course', 'preparation', 'for...   \n",
       "\n",
       "                                        nutrition  n_steps  \\\n",
       "5497     [891.8, 0.0, 906.0, 0.0, 1.0, 0.0, 76.0]        7   \n",
       "6545          [4.2, 0.0, 2.0, 0.0, 0.0, 0.0, 0.0]        7   \n",
       "8529        [5.3, 0.0, 0.0, 102.0, 0.0, 0.0, 0.0]       12   \n",
       "12124  [2716.0, 1.0, 266.0, 0.0, 14.0, 0.0, 62.0]        8   \n",
       "21938    [185.8, 0.0, 111.0, 0.0, 1.0, 0.0, 10.0]       14   \n",
       "\n",
       "                                                   steps  \\\n",
       "5497   ['crush the fennel , aniseed , coriander seeds...   \n",
       "6545   ['in a quart jar , add apple , cinnamon sticks...   \n",
       "8529   ['select very tender cut of beef from rib part...   \n",
       "12124  ['place the berries in a 1 quart glass contain...   \n",
       "21938  ['put berries in a 6-8qt pot and add water', '...   \n",
       "\n",
       "                                             description  \\\n",
       "5497   finish off a large meal with a tiny glass of t...   \n",
       "6545   this is amazing.  a really nice amber color an...   \n",
       "8529   this is armenian cured spiced beef. it is a wo...   \n",
       "12124  a great way to bring the summer fruits into th...   \n",
       "21938  a recipe from my friend roy heflin. note that ...   \n",
       "\n",
       "                                             ingredients  n_ingredients  \n",
       "5497   ['fennel seed', 'anise seed', 'coriander seeds...              7  \n",
       "6545   ['granny smith apple', 'cinnamon sticks', 'vod...              6  \n",
       "8529   ['beef', 'salt', 'chaimen', 'paprika', 'red pe...             10  \n",
       "12124  ['mixed berries', 'granulated sugar', 'vanilla...              4  \n",
       "21938        ['blackberries', 'water', 'sugar', 'vodka']              4  "
      ]
     },
     "execution_count": 13,
     "metadata": {},
     "output_type": "execute_result"
    }
   ],
   "source": [
    "recipe[recipe.minutes > 60 * 24 * 30].head(5)"
   ]
  },
  {
   "cell_type": "markdown",
   "id": "d0e34086",
   "metadata": {},
   "source": [
    "So in this particular case, boxplot suffers from the very high standard deviation observed for the feature minutes. \n",
    "Can we come up with a better visualisation ? \n",
    "\n",
    "- **Option 1**: use a log-scale on the y axis the feature\n",
    "- **Option 2**: remove a lot of values\n",
    "\n",
    "**Questions**: \n",
    "- <span style=\"color:blue\"> Print the values of the different quartile (Q1, median and Q3). What can you conclude for this variable ? </span>\n",
    "- <span style=\"color:blue\"> Compare the mean with the median. What do you observe?</span>\n",
    "- <span style=\"color:blue\">Create a subplot with on the left the original boxplot, and on the right the same boxplot but with a log scale on the y-axis.</span> "
   ]
  },
  {
   "cell_type": "markdown",
   "id": "59391b3d",
   "metadata": {},
   "source": [
    "#### Subplots\n",
    "\n",
    "The matplotlib.pyplot.subplots method provides a way to plot multiple plots on a single figure. Given the number of rows and columns, it returns a tuple `(fig, ax`), giving a single figure `fig` with an array of axe `ax`.\n",
    "\n",
    "There is at least three different ways to create a subplot and to add plots to each created ax (dig in the documentation). \n",
    "More details on the different arguments of the `subplots` method [here](https://www.educative.io/edpresso/what-is-a-subplots-in-matplotlib)."
   ]
  },
  {
   "cell_type": "code",
   "execution_count": 14,
   "id": "dee9c2d3",
   "metadata": {},
   "outputs": [
    {
     "name": "stdout",
     "output_type": "stream",
     "text": [
      "0.25    20.0\n",
      "0.50    40.0\n",
      "0.75    65.0\n",
      "Name: minutes, dtype: float64\n",
      "128.25148996712096 40.0\n"
     ]
    }
   ],
   "source": [
    "print(recipe.minutes.quantile([0.25, 0.5, 0.75]))\n",
    "print(recipe.minutes.mean(), recipe.minutes.median())"
   ]
  },
  {
   "cell_type": "code",
   "execution_count": 15,
   "id": "4ec9cca1",
   "metadata": {},
   "outputs": [
    {
     "data": {
      "text/plain": [
       "<Axes: ylabel='minutes'>"
      ]
     },
     "execution_count": 15,
     "metadata": {},
     "output_type": "execute_result"
    },
    {
     "data": {
      "image/png": "[encoded data removed]",
      "text/plain": [
       "<Figure size 640x480 with 2 Axes>"
      ]
     },
     "metadata": {},
     "output_type": "display_data"
    }
   ],
   "source": [
    "plt.subplot(1, 2, 1)\n",
    "sns.boxplot(recipe.minutes)\n",
    "plt.subplot(1, 2, 2)\n",
    "sns.boxplot(np.log(recipe.minutes))"
   ]
  },
  {
   "cell_type": "markdown",
   "id": "3b1ab3ef",
   "metadata": {},
   "source": [
    "#### Summing-up: \n",
    "\n",
    "Comments."
   ]
  },
  {
   "cell_type": "markdown",
   "id": "649bfb11",
   "metadata": {},
   "source": [
    "For now let's keep it this way. We will go back to this matter in the feature engineering session.\n",
    "\n",
    "Now we can complete this analysis with distribution metrics, namely the skewness and the kurtosis coefficient. "
   ]
  },
  {
   "cell_type": "markdown",
   "id": "e273c835",
   "metadata": {},
   "source": [
    "### Univariate Analysis follow-up \n",
    "\n",
    "You are now ready to propose your own analysis for the other variables. \n",
    "Consider the following variables: **contributor_id, tags, n_steps, n_ingredients and ingredients**. \n",
    "The first step is to formulate questions that you would like to answer to using these variables. \n",
    "\n",
    "For example, if we take the contributor_id, please answer the following questions using the varying tools seen during the class. \n",
    "\n",
    "**Questions**\n",
    "- <span style=\"color:blue\">How many unique contributors are there?</span> \n",
    "- <span style=\"color:blue\">Who is the contributor that posted the most recipes ? And how many recipes did that person posted ? </span>\n",
    "- <span style=\"color:blue\">What is the average number of recipes posted by users on the website ? </span>\n",
    "\n",
    "Start with these three questions, then think about questions for the remaining variables mentioned above. "
   ]
  },
  {
   "cell_type": "code",
   "execution_count": 16,
   "id": "6c66bb92-46b0-41fd-9767-1020fc6470c5",
   "metadata": {},
   "outputs": [
    {
     "name": "stdout",
     "output_type": "stream",
     "text": [
      "Contributeurs uniques : 27926\n",
      "Contributeur majeur : 89831 avec 3118\n",
      "Nombre moyen posté : 8.294635823247154\n"
     ]
    }
   ],
   "source": [
    "print(\"Contributeurs uniques :\", len(recipe.contributor_id.unique()))\n",
    "print(\n",
    "    \"Contributeur majeur :\",\n",
    "    recipe.contributor_id.mode()[0],\n",
    "    \"avec\",\n",
    "    recipe.contributor_id.value_counts().max(),\n",
    ")\n",
    "print(\"Nombre moyen posté :\", recipe.contributor_id.value_counts().mean())"
   ]
  },
  {
   "cell_type": "code",
   "execution_count": 17,
   "id": "2994dc0f-af29-46f8-a867-bbb1d7b958d7",
   "metadata": {},
   "outputs": [
    {
     "data": {
      "text/plain": [
       "<Axes: xlabel='submitted', ylabel='Count'>"
      ]
     },
     "execution_count": 17,
     "metadata": {},
     "output_type": "execute_result"
    },
    {
     "data": {
      "image/png": "[encoded data removed]",
      "text/plain": [
       "<Figure size 640x480 with 1 Axes>"
      ]
     },
     "metadata": {},
     "output_type": "display_data"
    }
   ],
   "source": [
    "from datetime import date\n",
    "\n",
    "sns.histplot(\n",
    "    recipe.submitted.map(lambda x: (date.fromisoformat(x) - date(2000, 1, 1)).days),\n",
    "    bins=50,\n",
    ")"
   ]
  },
  {
   "cell_type": "code",
   "execution_count": 19,
   "id": "90b469fe-528e-4b97-a6c1-2aa61cb16a87",
   "metadata": {},
   "outputs": [
    {
     "data": {
      "text/plain": [
       "<Axes: xlabel='submitted', ylabel='count'>"
      ]
     },
     "execution_count": 19,
     "metadata": {},
     "output_type": "execute_result"
    },
    {
     "data": {
      "image/png": "[encoded data removed]",
      "text/plain": [
       "<Figure size 640x480 with 1 Axes>"
      ]
     },
     "metadata": {},
     "output_type": "display_data"
    }
   ],
   "source": [
    "sns.countplot(x=recipe.submitted.map(lambda x: date.fromisoformat(x).isoweekday()))"
   ]
  },
  {
   "cell_type": "code",
   "execution_count": 20,
   "id": "8aee9e85-b2a8-42df-98b5-32e310583f7e",
   "metadata": {},
   "outputs": [
    {
     "data": {
      "text/html": [
       "<div>\n",
       "<style scoped>\n",
       "    .dataframe tbody tr th:only-of-type {\n",
       "        vertical-align: middle;\n",
       "    }\n",
       "\n",
       "    .dataframe tbody tr th {\n",
       "        vertical-align: top;\n",
       "    }\n",
       "\n",
       "    .dataframe thead th {\n",
       "        text-align: right;\n",
       "    }\n",
       "</style>\n",
       "<table border=\"1\" class=\"dataframe\">\n",
       "  <thead>\n",
       "    <tr style=\"text-align: right;\">\n",
       "      <th></th>\n",
       "      <th>id</th>\n",
       "      <th>minutes</th>\n",
       "      <th>contributor_id</th>\n",
       "      <th>n_steps</th>\n",
       "      <th>n_ingredients</th>\n",
       "    </tr>\n",
       "  </thead>\n",
       "  <tbody>\n",
       "    <tr>\n",
       "      <th>count</th>\n",
       "      <td>231636.000000</td>\n",
       "      <td>2.305420e+05</td>\n",
       "      <td>2.316360e+05</td>\n",
       "      <td>231636.000000</td>\n",
       "      <td>231636.000000</td>\n",
       "    </tr>\n",
       "    <tr>\n",
       "      <th>mean</th>\n",
       "      <td>222014.537887</td>\n",
       "      <td>1.282515e+02</td>\n",
       "      <td>5.534907e+06</td>\n",
       "      <td>9.765503</td>\n",
       "      <td>9.051158</td>\n",
       "    </tr>\n",
       "    <tr>\n",
       "      <th>std</th>\n",
       "      <td>141206.916419</td>\n",
       "      <td>2.953313e+03</td>\n",
       "      <td>9.979162e+07</td>\n",
       "      <td>5.995141</td>\n",
       "      <td>3.734803</td>\n",
       "    </tr>\n",
       "    <tr>\n",
       "      <th>min</th>\n",
       "      <td>38.000000</td>\n",
       "      <td>1.000000e+00</td>\n",
       "      <td>2.700000e+01</td>\n",
       "      <td>0.000000</td>\n",
       "      <td>1.000000</td>\n",
       "    </tr>\n",
       "    <tr>\n",
       "      <th>25%</th>\n",
       "      <td>99943.750000</td>\n",
       "      <td>2.000000e+01</td>\n",
       "      <td>5.690500e+04</td>\n",
       "      <td>6.000000</td>\n",
       "      <td>6.000000</td>\n",
       "    </tr>\n",
       "    <tr>\n",
       "      <th>50%</th>\n",
       "      <td>207248.500000</td>\n",
       "      <td>4.000000e+01</td>\n",
       "      <td>1.736140e+05</td>\n",
       "      <td>9.000000</td>\n",
       "      <td>9.000000</td>\n",
       "    </tr>\n",
       "    <tr>\n",
       "      <th>75%</th>\n",
       "      <td>333816.500000</td>\n",
       "      <td>6.500000e+01</td>\n",
       "      <td>3.982750e+05</td>\n",
       "      <td>12.000000</td>\n",
       "      <td>11.000000</td>\n",
       "    </tr>\n",
       "    <tr>\n",
       "      <th>max</th>\n",
       "      <td>537716.000000</td>\n",
       "      <td>1.051200e+06</td>\n",
       "      <td>2.002290e+09</td>\n",
       "      <td>145.000000</td>\n",
       "      <td>43.000000</td>\n",
       "    </tr>\n",
       "  </tbody>\n",
       "</table>\n",
       "</div>"
      ],
      "text/plain": [
       "                  id       minutes  contributor_id        n_steps  \\\n",
       "count  231636.000000  2.305420e+05    2.316360e+05  231636.000000   \n",
       "mean   222014.537887  1.282515e+02    5.534907e+06       9.765503   \n",
       "std    141206.916419  2.953313e+03    9.979162e+07       5.995141   \n",
       "min        38.000000  1.000000e+00    2.700000e+01       0.000000   \n",
       "25%     99943.750000  2.000000e+01    5.690500e+04       6.000000   \n",
       "50%    207248.500000  4.000000e+01    1.736140e+05       9.000000   \n",
       "75%    333816.500000  6.500000e+01    3.982750e+05      12.000000   \n",
       "max    537716.000000  1.051200e+06    2.002290e+09     145.000000   \n",
       "\n",
       "       n_ingredients  \n",
       "count  231636.000000  \n",
       "mean        9.051158  \n",
       "std         3.734803  \n",
       "min         1.000000  \n",
       "25%         6.000000  \n",
       "50%         9.000000  \n",
       "75%        11.000000  \n",
       "max        43.000000  "
      ]
     },
     "execution_count": 20,
     "metadata": {},
     "output_type": "execute_result"
    }
   ],
   "source": [
    "recipe.describe()"
   ]
  },
  {
   "cell_type": "markdown",
   "id": "da29aee8",
   "metadata": {},
   "source": [
    "..."
   ]
  },
  {
   "cell_type": "markdown",
   "id": "c7d2b66b",
   "metadata": {},
   "source": [
    "### Bivariate Analysis\n",
    "\n",
    "**Questions** \n",
    "- <span style=\"color:blue\">Are the longest recipes also the ones that have the more steps? </span> \n",
    "- <span style=\"color:blue\">Is there a link between the ingredients and the nutrition score?  </span>\n",
    "- <span style=\"color:blue\">Is there a relationship between the nutrition score and the number of ingredients?</span>"
   ]
  },
  {
   "cell_type": "code",
   "execution_count": 21,
   "id": "eb59182a",
   "metadata": {},
   "outputs": [
    {
     "data": {
      "text/plain": [
       "<matplotlib.collections.PathCollection at 0x20bbd4820f0>"
      ]
     },
     "execution_count": 21,
     "metadata": {},
     "output_type": "execute_result"
    },
    {
     "data": {
      "image/png": "[encoded data removed]",
      "text/plain": [
       "<Figure size 640x480 with 1 Axes>"
      ]
     },
     "metadata": {},
     "output_type": "display_data"
    }
   ],
   "source": [
    "plt.scatter(\n",
    "    recipe.n_steps[recipe.minutes < 60 * 24],\n",
    "    recipe.minutes[recipe.minutes < 60 * 24],\n",
    "    marker=\".\",\n",
    ")"
   ]
  },
  {
   "cell_type": "code",
   "execution_count": 22,
   "id": "19daa3b9",
   "metadata": {},
   "outputs": [],
   "source": [
    "recipe[\"score\"] = recipe.nutrition.map(lambda x: eval(x)[0])\n",
    "recipe[\"nb_ingredients\"] = recipe.ingredients.map(lambda x: len(eval(x)))"
   ]
  },
  {
   "cell_type": "code",
   "execution_count": 23,
   "id": "158a7b08",
   "metadata": {},
   "outputs": [
    {
     "data": {
      "text/plain": [
       "<matplotlib.collections.PathCollection at 0x20bc8484c50>"
      ]
     },
     "execution_count": 23,
     "metadata": {},
     "output_type": "execute_result"
    },
    {
     "data": {
      "image/png": "[encoded data removed]",
      "text/plain": [
       "<Figure size 640x480 with 1 Axes>"
      ]
     },
     "metadata": {},
     "output_type": "display_data"
    }
   ],
   "source": [
    "plt.scatter(\n",
    "    recipe.nb_ingredients[recipe.score < 5000],\n",
    "    recipe.score[recipe.score < 5000],\n",
    "    marker=\".\",\n",
    ")"
   ]
  }
 ],
 "metadata": {
  "kernelspec": {
   "display_name": "kit_big_data_mangetamain",
   "language": "python",
   "name": "python3"
  },
  "language_info": {
   "codemirror_mode": {
    "name": "ipython",
    "version": 3
   },
   "file_extension": ".py",
   "mimetype": "text/x-python",
   "name": "python",
   "nbconvert_exporter": "python",
   "pygments_lexer": "ipython3",
   "version": "3.12.11"
  }
 },
 "nbformat": 4,
 "nbformat_minor": 5
}
